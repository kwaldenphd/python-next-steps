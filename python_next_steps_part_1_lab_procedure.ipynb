{
  "nbformat": 4,
  "nbformat_minor": 0,
  "metadata": {
    "colab": {
      "provenance": [],
      "toc_visible": true,
      "authorship_tag": "ABX9TyPV7Dgjw2blbmOdMq9mT876",
      "include_colab_link": true
    },
    "kernelspec": {
      "name": "python3",
      "display_name": "Python 3"
    },
    "language_info": {
      "name": "python"
    }
  },
  "cells": [
    {
      "cell_type": "markdown",
      "metadata": {
        "id": "view-in-github",
        "colab_type": "text"
      },
      "source": [
        "<a href=\"https://colab.research.google.com/github/kwaldenphd/python-next-steps/blob/main/python_next_steps_part_1_lab_procedure.ipynb\" target=\"_parent\"><img src=\"https://colab.research.google.com/assets/colab-badge.svg\" alt=\"Open In Colab\"/></a>"
      ]
    },
    {
      "cell_type": "markdown",
      "source": [
        "# Data Structures in Python (strings, lists, dictionaries, tuples, sets)\n",
        "\n",
        "<a href=\"http://creativecommons.org/licenses/by-nc/4.0/\" rel=\"license\"><img style=\"border-width: 0;\" src=\"https://i.creativecommons.org/l/by-nc/4.0/88x31.png\" alt=\"Creative Commons License\" /></a>\n",
        "This tutorial is licensed under a <a href=\"http://creativecommons.org/licenses/by-nc/4.0/\" rel=\"license\">Creative Commons Attribution-NonCommercial 4.0 International License</a>."
      ],
      "metadata": {
        "id": "MhkMziHC2E7b"
      }
    },
    {
      "cell_type": "markdown",
      "source": [
        "## Lab Overview & Goals\n",
        "\n",
        "This lab provides an overview of foundational programming concepts in the areas of data structures and data storage, with a focus on Python syntax. Topics covered include:\n",
        "- Linear and associative arrays\n",
        "- Indexing\n",
        "- String objects and methods\n",
        "- Lists and list methods\n",
        "- Dictionaries\n",
        "- Tuples\n",
        "- Sets\n",
        "\n",
        "Specific skills covered in this lab include:\n",
        "- Utilize lists and strings in the Python programming language\n",
        "  * For strings, this includes creation, length and access, basic operations, and basic method arguments\n",
        "  * For lists, this includes creation, access, iteration, nesting, searching, concatenating, growing, deleting, sorting, and reversing\n",
        "- Understand and articulate the differences between lists and strings\n",
        "- Define dictionaries in the Python programming language\n",
        "- Practice utilizing dictionaries and sets in the Python programming language\n",
        "  * For dictionaries, this includes basic syntax, ordering, adding key-value pairs, updating, lists, and iteration\n",
        "  * For sets, this includes basic syntax, adding and removing, and testing for membership\n",
        "- Use Python methods and functions to work with dictionaries and sets"
      ],
      "metadata": {
        "id": "pt1fg3gVMcdO"
      }
    },
    {
      "cell_type": "markdown",
      "source": [
        "## Acknowledgements\n",
        "\n",
        "Elements of this lab procedure were adapted from materials developed by:\n",
        "- [Dr. Peter Bui](http://www3.nd.edu/~pbui/) for the [CSE 10101 \"Elements of Computing I\" course](https://www3.nd.edu/~pbui/teaching/cdt.30010.fa16/).\n",
        "  * [Reading 05: Lists, Strings](https://www3.nd.edu/~pbui/teaching/cdt.30010.fa16/reading05.html)\n",
        "  * [Notebook 05: Lists, Strings](https://www3.nd.edu/~pbui/teaching/cdt.30010.fa16/notebook05.html)\n",
        "  * [Reading 06: Dictionaries, Sets](https://www3.nd.edu/~pbui/teaching/cdt.30010.fa16/reading06.html)\n",
        "- [Dr. Janet Davis](https://cs.whitman.edu/~davisj/) for the the [CSC 105 \"The Digital Age\" course](https://www.cs.grinnell.edu/~davisjan/csc/105/2012S/).\n",
        "  * [Laboratory: Programming in Python](http://www.cs.grinnell.edu/~davisjan/csc/105/labs/python1.html)\n",
        "- [Dr. Corey Pennycuff](https://www3.nd.edu/~cpennycu/) for the [CSE 10101 Elements of Computing (Fall 2019)](https://www3.nd.edu/~cpennycu/2019/fa-CSE10101-CDT30010.html).\n",
        "- [Dr. Lindsay K. Mattock](http://lindsaymattock.net/) for the the [SLIS 5020 Computing Foundations course](http://lindsaymattock.net/computingfoundations.html)."
      ],
      "metadata": {
        "id": "6CK8m5-eMd4Q"
      }
    },
    {
      "cell_type": "markdown",
      "source": [
        "# Key Concepts\n",
        "\n",
        "[Click here](https://github.com/kwaldenphd/python-next-steps/blob/main/part-i-key-concepts.md) for a full list of key concepts and definitions from this section of the lab."
      ],
      "metadata": {
        "id": "mlZiuMoUMnbV"
      }
    },
    {
      "cell_type": "markdown",
      "source": [
        "# Overview\n",
        "\n",
        "<p align=\"center\"><img src=\"https://github.com/kwaldenphd/python-data-structures/blob/main/images/Python_Data_Structures.png?raw=true\" width=\"1000\"></p>\n",
        "\n",
        "Up to this point, we've been working with what are called \"primitive\" data types in Python. These include `integer`, `float`, `string`, and `Boolean`.\n",
        "\n",
        "But we can imagine scenarios where we want to be able to work with more complex data structures or more complex ways of storing and accessing information in a programming language.\n",
        "\n",
        "In this lab, we're going to focus on some of the one-dimensional (or linear) data structures available to us in Python. These include `strings`, `lists`, `tuples`, `sets`, and `dictionaries`.\n",
        "\n",
        "<table><tr><th>Name</th><th>Syntax</th><th>Example</th><th>Description</th></tr>\n",
        "  <tr><td>String</td><td><code>str(), \"\"</code><td><code>\"Hello world!\"</code></td><td>Sequence of characters</td></tr>\n",
        "  <tr><td>List</td><td><code>list(), []</code><td><code>[\"apple\", \"banana\", \"pear\"], [1, 3, 5, 7]</code></td><td>Sequence of objects/values</td></tr>\n",
        "  <tr><td>Dictionary</td><td><code>dict(), {}</code><td><code>{'first_name': 'Knute', 'last_name':'Rockne', 'class':'1918'}</code></td><td>Key-value pairs</td></tr>\n",
        "  <tr><td>Set</td><td><code>set(), {}</code><td><code>{\"apple\", \"banana\", \"pear\"}, {1, 3, 5, 7}</code></td><td>Unordered group of unique values</td></tr>\n",
        "  <tr><td>Tuple</td><td><code>tuple(), ()</code><td><code>(\"apple\", \"banana\", \"pear\"), (1, 3, 5, 7)</code></td><td>Ordered group of values that can include duplicates</td></tr>\n",
        "  </table>"
      ],
      "metadata": {
        "id": "UEfuitW2Mpbp"
      }
    },
    {
      "cell_type": "markdown",
      "source": [
        "## Linear Arrays\n",
        "\n",
        "<p align=\"center\"><img src=\"https://github.com/kwaldenphd/python-data-structures/blob/main/images/One_Dimensional_Array.jpg?raw=true\" width=\"500\"></p>\n",
        "\n",
        "\"An array is a data structure consisting of a collection of elements (values or variables), each identified by at least one array index or key. Depending on the language, array types may overlap (or be identified with) other data types that describe aggregates of values, such as lists and strings. Array types are often implemented by array data structures, but sometimes by other means, such as hash tables, linked lists, or search trees\" (Busbee and Braunschweig, \"[Arrays and Lists](https://press.rebus.community/programmingfundamentals/chapter/arrays-and-lists/)\")\n",
        "\n",
        "\"In computer science, an array is a data structure consisting of a collection of elements (values or variables), each identified by at least one array index or key...The simplest type of data structure is a linear array, also called one-dimensional array\" ([Wikipedia, \"Array (data structure)](https://en.wikipedia.org/wiki/Array_(data_structure))\")\n",
        "\n",
        "We can think of arrays as one-dimensional, linear data structures made up of a collection of items. As the definitions note, we can access specific elements in the array by using an index or key value.\n",
        "\n",
        "\"In Python, the built-in array data structure is a list\" (Busbee and Braunschweig, \"[Arrays and Lists](https://press.rebus.community/programmingfundamentals/chapter/arrays-and-lists/)\"). Python also includes a few other built-in array-like data structures, including `sets` and `tuples`. We'll come back to these later in this lab. We can also think of string objects, which are a sequence of characters, as a type of one-dimiensional, linear array.\n",
        "\n",
        "These **one-dimensional or linear array structures** have a few key properties that differentiate the structures and shape how we can interact with or manipulate them in a programming environment.\n",
        "\n",
        "Those properties include:\n",
        "- Mutable: Can values in the structure be changed once it has been created or assigned to a variable?\n",
        "- Order: Does the order of values in the structure have meaning/significance, or is order not significant?\n",
        "- Indexing/Slicing: Can values in the structure be accessed using their position or index? Can we isolate values in the structure using their position?\n",
        "- Duplicates: Does the structure allow duplicate values?\n",
        "\n",
        "How these properties show up for Python's built-in data structures:\n",
        "\n",
        "<p align=\"center\"><img src=\"https://github.com/kwaldenphd/python-data-structures/blob/main/images/Python_Array_Comparison.png?raw=true\" width=\"500\"></p>\n",
        "\n",
        "Each structure has its own specific vocabulary and syntax, but some common operations we can use with these structures:\n",
        "- Getting number of values in the structure (using the `len()` function)\n",
        "- For structures that are mutable, adding, modifying, and removing values\n",
        "- Sorting values in the structure\n",
        "- Testing for membership, if specific value(s) are present in the structure (using the `in` and `not in` operators)\n",
        "- For structures that are ordered or indexed, accessing elements using their position"
      ],
      "metadata": {
        "id": "2Ld3tYZSMrT4"
      }
    },
    {
      "cell_type": "markdown",
      "source": [
        "### Index/Indexing and Counting in Python\n",
        "\n",
        "<p align=\"center\"><img src=\"https://github.com/kwaldenphd/python-data-structures/blob/main/images/Indexing.PNG?raw=true\" width=\"500\"></p>\n",
        "\n",
        "In Python, **indexing** allows us to refer to individual values in specific data structures using their position.\n",
        "\n",
        "NOTE: Python (and many other programming languages) are **zero-indexed**, which means counting for index positions begins at `0`.\n",
        "\n",
        "Let's use the example of a list of strings:"
      ],
      "metadata": {
        "id": "3gnhvML2Msg4"
      }
    },
    {
      "cell_type": "code",
      "source": [
        "# list of string objects\n",
        "fruits = [\"apple\", \"banana\", \"blueberry\", \"cherry\"]\n",
        "\n",
        "# check data type\n",
        "type(fruits)"
      ],
      "metadata": {
        "id": "zCfVBrMDMtdS"
      },
      "execution_count": null,
      "outputs": []
    },
    {
      "cell_type": "markdown",
      "source": [
        "We can determine the number of elements in the list using the `len()` function."
      ],
      "metadata": {
        "id": "Z6DxZp7VMuhg"
      }
    },
    {
      "cell_type": "code",
      "source": [
        "len(fruits)"
      ],
      "metadata": {
        "id": "R6g_ekBsMvj0"
      },
      "execution_count": null,
      "outputs": []
    },
    {
      "cell_type": "markdown",
      "source": [
        "Remember Python starts at `0` and counts left-to-right. We can access specific values using their position."
      ],
      "metadata": {
        "id": "ZpSa_FFkMwI6"
      }
    },
    {
      "cell_type": "code",
      "source": [
        "# access first value\n",
        "fruits[0]\n",
        "\n",
        "# access second value\n",
        "fruits[1]\n",
        "\n",
        "# access third value\n",
        "fruits[2]"
      ],
      "metadata": {
        "id": "AIEDk0raMxUu"
      },
      "execution_count": null,
      "outputs": []
    },
    {
      "cell_type": "markdown",
      "source": [
        "Python lists also support negative indexing- we can use negative index values to count right-to-left.\n",
        "- NOTE: Negative indexing starts counting at `-1`"
      ],
      "metadata": {
        "id": "5xp0_KhAMyoq"
      }
    },
    {
      "cell_type": "code",
      "source": [
        "# access last value\n",
        "fruits[-1]\n",
        "\n",
        "# access next to last value\n",
        "fruits[-2]"
      ],
      "metadata": {
        "id": "Px9Z6gGNMzaS"
      },
      "execution_count": null,
      "outputs": []
    },
    {
      "cell_type": "markdown",
      "source": [
        "We can also use the `.index()` method to output the position for specific values (if they are present in the structure)."
      ],
      "metadata": {
        "id": "sAePa3GEM0Vs"
      }
    },
    {
      "cell_type": "code",
      "source": [
        "# return index for cherry\n",
        "print(\"The index for cherry is \", fruits.index(\"cherry\"))\n",
        "\n",
        "# return index for pear\n",
        "print(\"The index for pear is \", fruits.index(\"pear\"))"
      ],
      "metadata": {
        "id": "XgVNU3r8M1Pa"
      },
      "execution_count": null,
      "outputs": []
    },
    {
      "cell_type": "markdown",
      "source": [
        "The last line of the program returns an `IndexError` message because `pear` is not a value in the list.\n",
        "\n",
        "We can test for membership using the `in` and `not in` operators.\n"
      ],
      "metadata": {
        "id": "gx4-oqnUM2g6"
      }
    },
    {
      "cell_type": "code",
      "source": [
        "# test if apple is in list\n",
        "\"apple\" in fruits\n",
        "\n",
        "# test if blueberry is NOT in list\n",
        "\"blueberry\" not in fruits"
      ],
      "metadata": {
        "id": "TzP8BLZ3M3sm"
      },
      "execution_count": null,
      "outputs": []
    },
    {
      "cell_type": "markdown",
      "source": [
        "The `in` and `not in` operators return Boolean `True` or `False` values.\n",
        "\n",
        "For more on Python's membership operators: [W3Schools, Python Membership Operators](https://www.w3schools.com/python/gloss_python_membership_operators.asp)\n",
        "\n",
        "We can also use this index syntax with string objects."
      ],
      "metadata": {
        "id": "u61FN292M4qW"
      }
    },
    {
      "cell_type": "code",
      "source": [
        "# create string variable\n",
        "message = \"Hello world!\"\n",
        "\n",
        "# return number of characters in string\n",
        "len(message)\n",
        "\n",
        "# access first character in string\n",
        "message[0]\n",
        "\n",
        "# access last character in string\n",
        "message[-1]\n",
        "\n",
        "# test if character x is in string\n",
        "'x' in message # returns false\n",
        "\n",
        "# test if symbol % is NOT in string\n",
        "'%' not in message # returns true"
      ],
      "metadata": {
        "id": "KWzzYvQ8M5fN"
      },
      "execution_count": null,
      "outputs": []
    },
    {
      "cell_type": "markdown",
      "source": [
        "## Associative Arrays\n",
        "\n",
        "<p align=\"center\"><img src=\"https://github.com/kwaldenphd/python-data-structures/blob/main/images/Associative_Arrays.png?raw=true\" width=\"500\"></p>\n",
        "\n",
        "The other primary type of array we can encounter is an **associative array**, \"an abstract data type that stores a collection of (key, value) pairs, such that each possible key appears at most once in the collection\" ([Wikpedia, Associative Array](https://en.wikipedia.org/wiki/Associative_array))\n",
        "\n",
        "Python stores associate arrays using the **dictionary** data structure. Python dictionaries consist of key-value pairs, where the key is working as an identifier or index.\n",
        "\n",
        "A preliminary example in Python:"
      ],
      "metadata": {
        "id": "5l-gFk1DM61C"
      }
    },
    {
      "cell_type": "code",
      "source": [
        "# create dictionary\n",
        "english_to_french = {\n",
        "  'one': 'un',\n",
        "  'two': 'deux',\n",
        "  'three': 'trois',\n",
        "  'four': 'quatre',\n",
        "  'five': 'cinq'\n",
        "}\n",
        "\n",
        "# check data type\n",
        "type(english_to_french)"
      ],
      "metadata": {
        "id": "znFBCRA9M8O2"
      },
      "execution_count": null,
      "outputs": []
    },
    {
      "cell_type": "markdown",
      "source": [
        "We can use the index operator (`[]`) and key values to select specific values in the dictionary."
      ],
      "metadata": {
        "id": "5VV-CLMqM920"
      }
    },
    {
      "cell_type": "code",
      "source": [
        "# access value for one key\n",
        "english_to_french['one']\n",
        "\n",
        "# access value for five key\n",
        "english_to_french['five']\n",
        "\n",
        "# access value for asdf key\n",
        "english_to_french['asdf']"
      ],
      "metadata": {
        "id": "jJ-AoNmDM-tl"
      },
      "execution_count": null,
      "outputs": []
    },
    {
      "cell_type": "markdown",
      "source": [
        "The last line will return a `KeyError` because `asdf` is not a key in this dictionary.\n",
        "\n",
        "We can use the `.keys()` and `.values()` methods to output all of the keys or values in a dictionary."
      ],
      "metadata": {
        "id": "gWbNcTSfM_ih"
      }
    },
    {
      "cell_type": "code",
      "source": [
        "# output keys\n",
        "print(english_to_french.keys())\n",
        "\n",
        "# output values\n",
        "print(english_to_french.values())"
      ],
      "metadata": {
        "id": "Lig60IhLNAh0"
      },
      "execution_count": null,
      "outputs": []
    },
    {
      "cell_type": "markdown",
      "source": [
        "# Data Structures in Python\n",
        "\n",
        "<p align=\"center\"><img src=\"https://github.com/kwaldenphd/python-data-structures/blob/main/images/Python_Data_Structures.png?raw=true\" width=\"1000\"></p>\n",
        "\n",
        "Before we dive into more detail on these data structures in Python, remember some properties include:\n",
        "- Mutable: Can values in the structure be changed once it has been created or assigned to a variable?\n",
        "- Order: Does the order of values in the structure have meaning/significance, or is order not significant?\n",
        "- Indexing/Slicing: Can values in the structure be accessed using their position or index? Can we isolate values in the structure using their position?\n",
        "- Duplicates: Does the structure allow duplicate values?\n",
        "\n",
        "How these properties show up for Python's built-in data structures:\n",
        "\n",
        "<p align=\"center\"><img src=\"https://github.com/kwaldenphd/python-data-structures/blob/main/images/Python_Array_Comparison.png?raw=true\" width=\"500\"></p>\n",
        "\n",
        "Each structure has its own specific vocabulary and syntax, but some common operations we can use with these structures:\n",
        "- Getting number of values in the structure (using the `len()` function)\n",
        "- For structures that are mutable, adding, modifying, and removing values\n",
        "- Sorting values in the structure\n",
        "- Testing for membership, if specific value(s) are present in the structure (using the `in` and `not in` operators)\n",
        "- For structures that are ordered or indexed, accessing elements using their position"
      ],
      "metadata": {
        "id": "81jUTcmSNCH3"
      }
    },
    {
      "cell_type": "markdown",
      "source": [
        "## Strings\n",
        "\n",
        "\"A string data type is traditionally a sequence of characters, either as a literal constant or as some kind of variable...A string is generally considered a data type and is often implemented as an array data structure of bytes (or words) that stores a sequence of elements, typically characters, using some character encoding\" (Busbee and Braunschweig, \"[String Data Type](https://press.rebus.community/programmingfundamentals/chapter/string-data-type/)\")\n",
        "\n",
        "\"Like many other popular programming languages, strings in Python are arrays of bytes representing unicode characters. However, Python does not have a character data type, a single character is simply a string with a length of 1. Square brackets can be used to access elements of the string\" ([W3Schools, Python Strings](https://www.w3schools.com/python/python_strings.asp))\n",
        "\n",
        "Python examples:"
      ],
      "metadata": {
        "id": "0GOtoHqJNDTx"
      }
    },
    {
      "cell_type": "code",
      "source": [
        "# creating a string variable\n",
        "x = \"Hello World!\"\n",
        "\n",
        "# checking data type\n",
        "type(x)"
      ],
      "metadata": {
        "id": "aTewZQWkNENW"
      },
      "execution_count": null,
      "outputs": []
    },
    {
      "cell_type": "code",
      "source": [
        "# converting to a string data type\n",
        "y = 7\n",
        "y = str(y)\n",
        "\n",
        "# checking data type\n",
        "type(y)"
      ],
      "metadata": {
        "id": "0wF3Zj8DNFqD"
      },
      "execution_count": null,
      "outputs": []
    },
    {
      "cell_type": "markdown",
      "source": [
        "Some Python string syntax we've seen previously:"
      ],
      "metadata": {
        "id": "Yq71deywNEp2"
      }
    },
    {
      "cell_type": "code",
      "source": [
        "# create string variable\n",
        "message = \"Hello world!\"\n",
        "\n",
        "# return number of characters in string\n",
        "len(message)\n",
        "\n",
        "# access first character in string\n",
        "message[0]\n",
        "\n",
        "# access last character in string\n",
        "message[-1]\n",
        "\n",
        "# test if character x is in string\n",
        "'x' in message # returns false\n",
        "\n",
        "# test if symbol % is NOT in string\n",
        "'%' not in message # returns true"
      ],
      "metadata": {
        "id": "9atdq70mNIg4"
      },
      "execution_count": null,
      "outputs": []
    },
    {
      "cell_type": "markdown",
      "source": [
        "We can use the `in` operator in combination with `if-then-else` logic:"
      ],
      "metadata": {
        "id": "T-O51QP6NIFM"
      }
    },
    {
      "cell_type": "code",
      "source": [
        "# create string variable\n",
        "message = \"Hello world!\"\n",
        "\n",
        "# if-then-else logic testing for specific characters in the string\n",
        "if \"!\" in message:\n",
        "  print(\"An exclamation point is present in this string\")\n",
        "\n",
        "else:\n",
        "  print(\"An exclamation point is not present in this string\")"
      ],
      "metadata": {
        "id": "ZWjo38zANLDm"
      },
      "execution_count": null,
      "outputs": []
    },
    {
      "cell_type": "markdown",
      "source": [
        "Remember we can use concatenation to join or combine string objects."
      ],
      "metadata": {
        "id": "t7kvUoZxNMDX"
      }
    },
    {
      "cell_type": "code",
      "source": [
        "# first and last name variables\n",
        "first = \"Knute\"\n",
        "last = \"Rockne\"\n",
        "\n",
        "# use concatenation to create full name\n",
        "name = first + \" \" + last\n",
        "print(name)"
      ],
      "metadata": {
        "id": "P_FmKfRNNNA1"
      },
      "execution_count": null,
      "outputs": []
    },
    {
      "cell_type": "markdown",
      "source": [
        "### String Methods\n",
        "\n",
        "Python includes a number of built-in methods we can use to interact with strings. Brief explanations and examples are provided for some common string methods."
      ],
      "metadata": {
        "id": "lM_LHEkcNOH1"
      }
    },
    {
      "cell_type": "markdown",
      "source": [
        "#### Capitalization\n",
        "\n",
        "- `.title()` (title case)\n",
        "- `.upper()`(upper case)\n",
        "- `.lower()` (lower case)"
      ],
      "metadata": {
        "id": "3ViS1--XNO4c"
      }
    },
    {
      "cell_type": "code",
      "source": [
        "# create name variable\n",
        "name = \"Knute Rockne\n",
        "\n",
        "# print in title case\n",
        "print(name.title())\n",
        "\n",
        "# print in lower case\n",
        "print(name.lower())\n",
        "\n",
        "# print in upper case\n",
        "print(name.upper())"
      ],
      "metadata": {
        "id": "dZYh0lqANPzV"
      },
      "execution_count": null,
      "outputs": []
    },
    {
      "cell_type": "markdown",
      "source": [
        "#### Searching\n",
        "\n",
        "- `.count()` (returns number of times specific value appears in a string)\n",
        "- `.startswith()` (returns Boolean True/False value if string begins with specific value\n",
        "- `.endswith()` (returns Boolean True/False value if string ends with specific value)\n",
        "- `.find()` (returns index for specific value in string, searching left-to-right)\n",
        "- `.rfind()` (returns index for specific value in string, searching right-to-left)\n",
        "- `.index()` (returns index for specific value in string)\n",
        "- `.rfind()` (returns index for specific value in string, searching right-to-left)"
      ],
      "metadata": {
        "id": "i-50ARdGNQ-m"
      }
    },
    {
      "cell_type": "code",
      "source": [
        "# create color variable\n",
        "color = \"chartreuse\"\n",
        "\n",
        "# return number of e characters in string\n",
        "print(color.count(\"e\")\n",
        "\n",
        "# return true/false if string begins with value\n",
        "print(color.startswith(\"e\")) # returns false\n",
        "\n",
        "# return true/false if string ends with value\n",
        "print(color.endswith(\"e\")) # returns true\n",
        "\n",
        "# returns position for first occurance of value in the string\n",
        "print(color.find(\"e\")) # returns 6\n",
        "\n",
        "# returns index for first occurance of value in the string\n",
        "print(color.index(\"e\")) # returns 6\n",
        "\n",
        "# returns position for first occurance of a value in the string searching right-to-left\n",
        "print(color.rfind(\"e\")) # returns 1\n",
        "\n",
        "# returns index for first occurance of a value in the string searching right-to-left\n",
        "print(color.rindex(\"e\")) # returns 1"
      ],
      "metadata": {
        "id": "sX-hE8fBNSLD"
      },
      "execution_count": null,
      "outputs": []
    },
    {
      "cell_type": "markdown",
      "source": [
        "We can also use these methods to search for a substring within a string."
      ],
      "metadata": {
        "id": "-O80RhVqNTJi"
      }
    },
    {
      "cell_type": "code",
      "source": [
        "# create string variable\n",
        "passage = \"As there is no other school within more than a hundred miles, this college cannot fail to succeed. Before long, it will develop on a large scale. It will be one of the most powerful means for good in this country.\"\n",
        "\n",
        "# return true/false if string ends with substring\n",
        "print(passage.endswith(\"good\")) # returns false\n",
        "\n",
        "# returns position for first occurance of substring\n",
        "print(passage.find(\"college\"))"
      ],
      "metadata": {
        "id": "tOVfW2E1NUMN"
      },
      "execution_count": null,
      "outputs": []
    },
    {
      "cell_type": "markdown",
      "source": [
        "#### Modifying\n",
        "\n",
        "Strings in Python are immutable- that is values in the string cannot be modified once it has been created and assigned to a variable. But Python include string methods that facilitate modifying a string to create a new string object.\n",
        "\n",
        "`.replace()` replaces a value in a string. Syntax: `.replace(\"OLD VALUE\", \"NEW VALUE\")`\n",
        "\n",
        "`.split()` splits a string at a specific separator and returns a list. The default separator is a space or whitespace character. Syntax: `.split(\"SEPARATOR\")`\n",
        "\n",
        "`.strip()` trims specific character(s) from a string. The default character `.strip()` removes is a whitespace character. Syntax: `.strip(\"CHARACTERS TO STRIP\")`"
      ],
      "metadata": {
        "id": "iwvrPnn3NVgl"
      }
    },
    {
      "cell_type": "code",
      "source": [
        "# create string variable\n",
        "passage = \"As there is no other school within more than a hundred miles, this college cannot fail to succeed. Before long, it will develop on a large scale. It will be one of the most powerful means for good in this country.\"\n",
        "\n",
        "# replace value in string\n",
        "modified = passage.replace(\"cannot\", \"can't\")\n",
        "print(modified)\n",
        "\n",
        "# split string at separator\n",
        "sentences = passage.split(\". \")\n",
        "print(sentences)\n",
        "\n",
        "# remove strip whitespace from string\n",
        "modified = passage.strip()\n",
        "print(modified)"
      ],
      "metadata": {
        "id": "uzks0VgwNXXx"
      },
      "execution_count": null,
      "outputs": []
    },
    {
      "cell_type": "markdown",
      "source": [
        "For more on strings (general):\n",
        "- Kenneth Leroy Busbee and Dave Braunschweig, \"[String Data Type](https://press.rebus.community/programmingfundamentals/chapter/string-data-type/)\" in *Programming Fundamentals*\n",
        "\n",
        "More on strings in Python:\n",
        "- [W3Schools, Python Strings](https://www.w3schools.com/python/python_strings.asp)\n",
        "- [W3Schools, Python String Methods](https://www.w3schools.com/python/python_ref_string.asp)\n",
        "- Allen Downey, Chapter 8 \"Strings\" in *[Think Python: How To Think Like a Computer Scientist](https://www.oreilly.com/library/view/think-python-2nd/9781491939406/)* (O'Reilly, 2016): 85-99.\n",
        "\n",
        "### Comprehension Check\n",
        "\n",
        "<table>\n",
        " <tr><td>\n",
        "<img src=\"https://github.com/kwaldenphd/internet/blob/main/images/clipboard.png?raw=true\" alt=\"Clipboard icon\" width=\"50\"/></td>\n",
        "  <td><a href=\"https://docs.google.com/forms/d/e/1FAIpQLSdFMybseRW8-rommWKphdCFBgqWtpxCY1z8wT2_qk3NaJ8awQ/viewform?usp=sf_link\">Strings in Python Comprehension Check</a></td>\n",
        "  </tr>\n",
        "  </table>"
      ],
      "metadata": {
        "id": "1mbCX_TkNY91"
      }
    },
    {
      "cell_type": "markdown",
      "source": [
        "### Application\n",
        "\n",
        "Q1: Write a program that converts integer, float, or boolean values to a string, using the `str()` function.\n",
        "\n",
        "Q2: Write a program that prompts the user to enter a 6-letter word, and then prints the first, third, and fifth letters of that word.\n",
        "\n",
        "Q3: Modify the program provided below to search for the character `q` or `u` in the string. Does it always return the index number you expect? What index is returned if you ask for the index of the letter u (i.e., what happens when the desired character appears more than once in the string)?"
      ],
      "metadata": {
        "id": "aIPY-7RkNaE2"
      }
    },
    {
      "cell_type": "code",
      "source": [
        "# program you're modifying for Q8\n",
        "# assign string variable\n",
        "color = \"turquoise\"\n",
        "\n",
        "# get index number of t character\n",
        "index_number = color.index(\"t\")\n",
        "\n",
        "# show index number as part of print statement\n",
        "print (\"The index number for the letter t within the word \" + color + \" is \" + index_number)"
      ],
      "metadata": {
        "id": "vL5Zlp2jNbLL"
      },
      "execution_count": null,
      "outputs": []
    },
    {
      "cell_type": "markdown",
      "source": [
        "## Lists\n",
        "\n",
        "\"An array is a data structure consisting of a collection of elements (values or variables), each identified by at least one array index or key...In Python, the built-in array data structure is a list\" (Busbee and Braunschweig, \"[Arrays and Lists](https://press.rebus.community/programmingfundamentals/chapter/arrays-and-lists/)\")\n",
        "- An list is a single-dimension array\n",
        "\n",
        "In Python, we can create lists using square brackets `[]` or the `list()` function.\n",
        "\n",
        "Python examples:"
      ],
      "metadata": {
        "id": "rGhMWsURNcuV"
      }
    },
    {
      "cell_type": "code",
      "source": [
        "# creating a list of numbers using square brackets\n",
        "numbers = [1, 3, 5, 7, 9]\n",
        "\n",
        "# checking data type\n",
        "type(numbers)"
      ],
      "metadata": {
        "id": "83nXtRUtNd3O"
      },
      "execution_count": null,
      "outputs": []
    },
    {
      "cell_type": "code",
      "source": [
        "# creating a list of strings using the list function\n",
        "words = list((\"apple\", \"banana\", \"blueberry\", \"cherry\")) # note the double round bracket syntax\n",
        "\n",
        "# check data type\n",
        "type(words)"
      ],
      "metadata": {
        "id": "IUyxWnK9NenY"
      },
      "execution_count": null,
      "outputs": []
    },
    {
      "cell_type": "markdown",
      "source": [
        "Some Python list syntax we've seen previously:"
      ],
      "metadata": {
        "id": "fUWSMzNQNffU"
      }
    },
    {
      "cell_type": "code",
      "source": [
        "# list of string objects\n",
        "fruits = [\"apple\", \"banana\", \"blueberry\", \"cherry\"]\n",
        "\n",
        "# check data type\n",
        "type(fruits)\n",
        "\n",
        "# determine number of elements in list\n",
        "len(fruits)"
      ],
      "metadata": {
        "id": "Eq415L_5NgT9"
      },
      "execution_count": null,
      "outputs": []
    },
    {
      "cell_type": "markdown",
      "source": [
        "We can access specific values using their position."
      ],
      "metadata": {
        "id": "c3Rp_CtTNhep"
      }
    },
    {
      "cell_type": "code",
      "source": [
        "# access first value\n",
        "fruits[0]\n",
        "\n",
        "# access second value\n",
        "fruits[1]\n",
        "\n",
        "# access third value\n",
        "fruits[2]\n",
        "\n",
        "# access last value\n",
        "fruits[-1]\n",
        "\n",
        "# access next to last value\n",
        "fruits[-2]"
      ],
      "metadata": {
        "id": "g-gb4tdANiTH"
      },
      "execution_count": null,
      "outputs": []
    },
    {
      "cell_type": "markdown",
      "source": [
        "We can also use the `.index()` method to output the position for specific values (if they are present in the structure)."
      ],
      "metadata": {
        "id": "_8V6b9cZNjG7"
      }
    },
    {
      "cell_type": "code",
      "source": [
        "# return index for cherry\n",
        "print(\"The index for cherry is \", fruits.index(\"cherry\"))\n",
        "\n",
        "# return index for pear\n",
        "print(\"The index for pear is \", fruits.index(\"pear\"))"
      ],
      "metadata": {
        "id": "tJPGyYIoNkKX"
      },
      "execution_count": null,
      "outputs": []
    },
    {
      "cell_type": "markdown",
      "source": [
        "The last line of the program returns an `IndexError` message because `pear` is not a value in the list.\n",
        "\n",
        "We can test for membership using the `in` and `not in` operators."
      ],
      "metadata": {
        "id": "Dyq0H8UxNlJm"
      }
    },
    {
      "cell_type": "code",
      "source": [
        "# test if apple is in list\n",
        "\"apple\" in fruits\n",
        "\n",
        "# test if blueberry is NOT in list\n",
        "\"blueberry\" not in fruits"
      ],
      "metadata": {
        "id": "JSRlUuUrNl4M"
      },
      "execution_count": null,
      "outputs": []
    },
    {
      "cell_type": "markdown",
      "source": [
        "### Nested Lists, or Lists With Sublists\n",
        "\n",
        "Lists can also contain other lists- this is referred to as nested lists or sub-lists.\n",
        "\n",
        "Syntax for selecting items or values within a nested list: `list_name[list_item_number][sublist_item_number]`"
      ],
      "metadata": {
        "id": "RCuy5uuINoLw"
      }
    },
    {
      "cell_type": "code",
      "source": [
        "# create list with two sub-lists\n",
        "points = [[0, 1], [2, 3]]\n",
        "\n",
        "# show list\n",
        "points\n",
        "\n",
        "# access first item on list, which is a sublist\n",
        "points[0]\n",
        "\n",
        "# access first item WITHIN second item on list\n",
        "points[1][0]"
      ],
      "metadata": {
        "id": "Xps4aQkKNpVp"
      },
      "execution_count": null,
      "outputs": []
    },
    {
      "cell_type": "markdown",
      "source": [
        "We would also use the double bracket syntax to modify a sublist or a value within a sublist."
      ],
      "metadata": {
        "id": "ffF6BIVKNqTW"
      }
    },
    {
      "cell_type": "code",
      "source": [
        "# modify second value in last sublist\n",
        "points[2][1] = 4\n",
        "\n",
        "# show updated list\n",
        "points"
      ],
      "metadata": {
        "id": "cH-4lvgONrRk"
      },
      "execution_count": null,
      "outputs": []
    },
    {
      "cell_type": "markdown",
      "source": [
        "### List Methods"
      ],
      "metadata": {
        "id": "B0axdCdjNsRg"
      }
    },
    {
      "cell_type": "markdown",
      "source": [
        "#### Modifying\n",
        "\n",
        "Unlike strings, lists in Python are mutable, meaning they can be modified after they have been created.\n",
        "\n",
        "We can use the index and assignment operators (`[]` and `=`) to modify specific values."
      ],
      "metadata": {
        "id": "D4MCyG1wNtKz"
      }
    },
    {
      "cell_type": "code",
      "source": [
        "# list of string objects\n",
        "fruits = [\"apple\", \"banana\", \"blueberry\", \"cherry\"]\n",
        "\n",
        "# modify second value\n",
        "fruits[1] = \"peach\"\n",
        "\n",
        "# show new list\n",
        "print(fruits)"
      ],
      "metadata": {
        "id": "XtbyM8a8NuRe"
      },
      "execution_count": null,
      "outputs": []
    },
    {
      "cell_type": "markdown",
      "source": [
        "We can add values to a list using `.append()`, `.insert()`, or `.extend()`.\n",
        "- `.append()` adds or appends a value to the end of a list\n",
        "- `.insert()` adds or inserts a value at a specific position\n",
        "- `.extend()` extends a list by adding specific elements to the end of the current list"
      ],
      "metadata": {
        "id": "Lsh4HM5eNvVj"
      }
    },
    {
      "cell_type": "code",
      "source": [
        "# create list of numbers\n",
        "numbers = [1, 3, 5, 7, 9]\n",
        "\n",
        "# add value to end of list using append\n",
        "numbers.append(13)\n",
        "\n",
        "# show updated list\n",
        "print(numbers)"
      ],
      "metadata": {
        "id": "QUaFg9cdNwSP"
      },
      "execution_count": null,
      "outputs": []
    },
    {
      "cell_type": "code",
      "source": [
        "# show updated list\n",
        "print(numbers)\n",
        "\n",
        "# insert value at specific position\n",
        "numbers.insert(4, 11)\n",
        "\n",
        "# show updated list\n",
        "print(numbers)"
      ],
      "metadata": {
        "id": "jAEfx3isNxlr"
      },
      "execution_count": null,
      "outputs": []
    },
    {
      "cell_type": "code",
      "source": [
        "# show updated list\n",
        "print(numbers)\n",
        "\n",
        "# create second list of number values\n",
        "num2 = [15, 17, 19]\n",
        "\n",
        "# add num2 to numbers using extend\n",
        "numbers.extend(num2)\n",
        "\n",
        "# show updated list\n",
        "print(numbers)"
      ],
      "metadata": {
        "id": "kkBmOxqJNy3R"
      },
      "execution_count": null,
      "outputs": []
    },
    {
      "cell_type": "markdown",
      "source": [
        "NOTE: for lists with string objects, `.extend()` works similarly to concatenation.\n",
        "\n",
        "We can remove values from a list using `.remove()`, `.pop()`, or `del`.\n",
        "- `.remove()` removes the first matching element from a list\n",
        "- `.pop()` removes an item at a specific position; if no index is supplied, last element is removed\n",
        "- `del` removes or deletes the value at a specific position"
      ],
      "metadata": {
        "id": "IcT8yCCaN1T8"
      }
    },
    {
      "cell_type": "code",
      "source": [
        "# show updated list\n",
        "print(numbers)\n",
        "\n",
        "# remove 19 using remove\n",
        "numbers.remove(19)\n",
        "\n",
        "# show updated list\n",
        "print(numbers)"
      ],
      "metadata": {
        "id": "SUQSHSx0N0DE"
      },
      "execution_count": null,
      "outputs": []
    },
    {
      "cell_type": "code",
      "source": [
        "# show updated list\n",
        "print(numbers)\n",
        "\n",
        "# remove 17 using pop\n",
        "numbers.pop(-1)\n",
        "\n",
        "# show updated list\n",
        "print(numbers)"
      ],
      "metadata": {
        "id": "GouEuOeHN6rX"
      },
      "execution_count": null,
      "outputs": []
    },
    {
      "cell_type": "code",
      "source": [
        "# show updated list\n",
        "print(numbers)\n",
        "\n",
        "# remove 15 using del\n",
        "del numbers[7]\n",
        "\n",
        "# show updated list\n",
        "print(numbers)"
      ],
      "metadata": {
        "id": "qDy-_sqFN8Dh"
      },
      "execution_count": null,
      "outputs": []
    },
    {
      "cell_type": "markdown",
      "source": [
        "#### Slicing\n",
        "\n",
        "<p align=\"center\"><img src=\"https://github.com/kwaldenphd/python-data-structures/blob/main/images/Python_List_Slicing.png?raw=true\" width=\"500\"></p>\n",
        "\n",
        "We can also modify a list using a technique called **list slicing**, selecting multiple values in the list using their position.\n",
        "\n",
        "In Python, we use a combination of index operators `[]` and index values for list slicing."
      ],
      "metadata": {
        "id": "VGcFb4IxN9UA"
      }
    },
    {
      "cell_type": "code",
      "source": [
        "# list of strings\n",
        "dorms = [\"alumni\", \"badin\", \"baumer\", \"breen-phillips\", \"carroll\", \"cavanaugh\", \"dillon\", \"duncan\", \"dunne\", \"farley\", \"fisher\", \"flaherty\", \"howard\", \"johnson\", \"keenan\", \"keough\", \"knott\", \"lewis\", \"lyons\", \"mcglinn\", \"morrissey\", \"oneill\", \"pangborn\", \"pasquerilla east\", \"pasquerilla west\", \"ryan\", \"st. edward's\", \"sigfried\", \"sorin\", \"stanford\", \"walsh\", \"welsh\", \"zahm\"]\n",
        "\n",
        "# use list slicing to show first 3 strings\n",
        "print(dorms[0:3])"
      ],
      "metadata": {
        "id": "SamUAMvqN-fy"
      },
      "execution_count": null,
      "outputs": []
    },
    {
      "cell_type": "markdown",
      "source": [
        "For more on list slicing in PythoN:\n",
        "- [Geeks for Geeks, \"Python List Slicing\"](https://www.geeksforgeeks.org/python-list-slicing/)\n",
        "\n",
        "#### Searching & Sorting\n",
        "\n",
        "We can search for values in a list using `.count()` or `.index()`.\n",
        "- `.count()` returns the number of times a value appears in the list\n",
        "- `.index()` returns the specific position for a list item"
      ],
      "metadata": {
        "id": "QOJMVJxSN_pL"
      }
    },
    {
      "cell_type": "code",
      "source": [
        "# show list\n",
        "print(dorms)\n",
        "\n",
        "# show nubmer of times howard appears in list\n",
        "print(dorms.count(\"howard\"))\n",
        "\n",
        "# show index position for lewis\n",
        "print(dorms.index(\"lewis\"))"
      ],
      "metadata": {
        "id": "aqp77KMNOAiD"
      },
      "execution_count": null,
      "outputs": []
    },
    {
      "cell_type": "markdown",
      "source": [
        "We can also test for membership using the `in` and `not in` operators."
      ],
      "metadata": {
        "id": "I0w2hy5wOCEj"
      }
    },
    {
      "cell_type": "code",
      "source": [
        "# tests if welsh is in dorms list\n",
        "\"welsh\" in dorms # returns True\n",
        "\n",
        "# tests if sophomore is not in dorms list\n",
        "\"sophomore\" not in dorms # returns True"
      ],
      "metadata": {
        "id": "6Z19Xz4kOC27"
      },
      "execution_count": null,
      "outputs": []
    },
    {
      "cell_type": "markdown",
      "source": [
        "We can sort the values in the list using `.sort()`, `sorted()`, and `.reverse()`.\n",
        "\n",
        "A few notes on sorting lists in Python.\n",
        "- Ascending order in Python is `[0, 1, 2, 3..]` and `[a, b, c, d..]`\n",
        "- Sorting a list **in-place** changes the underlying order of items in a list\n",
        "- Generating a sorted version of a list **does not** change the underlying item order\n",
        "\n",
        "So how do the sorting functions work in Python?\n",
        "- `.sort()` does not have any output- it sorts the list in place; we can set the `reverse` parameter to `True` to sort in descending order\n",
        "- `.sorted()` returns a sorted version of the list\n",
        "- `.reverse()` does not have any output- it reverse sorts the list in place"
      ],
      "metadata": {
        "id": "T71PT7nuOEUA"
      }
    },
    {
      "cell_type": "code",
      "source": [
        "# show list of dorms\n",
        "print(dorms)\n",
        "\n",
        "# generate sorted version using sorted\n",
        "print(sorted(dorms))\n",
        "\n",
        "# change underlying order using a reverse sort\n",
        "dorms.sort(reverse=True) # remember sort does not have an output\n",
        "\n",
        "# show updated list\n",
        "print(dorms)"
      ],
      "metadata": {
        "id": "yd5dBy1dOFWs"
      },
      "execution_count": null,
      "outputs": []
    },
    {
      "cell_type": "markdown",
      "source": [
        "Another workflow for sorting list values in descending order:"
      ],
      "metadata": {
        "id": "syTFeKC_OGH2"
      }
    },
    {
      "cell_type": "code",
      "source": [
        "# sort list alphabetically\n",
        "dorms.sort()\n",
        "\n",
        "# show updated list\n",
        "print(dorms)\n",
        "\n",
        "# reverse sort using reverse\n",
        "dorms.reverse()\n",
        "\n",
        "# show updated list\n",
        "print(dorms)"
      ],
      "metadata": {
        "id": "wNha6v1OOG5r"
      },
      "execution_count": null,
      "outputs": []
    },
    {
      "cell_type": "markdown",
      "source": [
        "#### Summary Statistics\n",
        "\n",
        "Python includes a few built-in fucntion that calculate summary statistics for lists with numeric values.\n",
        "- `.max()` identifies the highest value in the list\n",
        "- `.min()` identifies the lowest value in the list\n",
        "- `.sum()` calculates the sum for all values in the list"
      ],
      "metadata": {
        "id": "bLGYptPqOICH"
      }
    },
    {
      "cell_type": "code",
      "source": [
        "# create list of numbers\n",
        "numbers = [1, 3, 5, 7, 9, 11, 13, 15, 17]\n",
        "\n",
        "# highest value\n",
        "print(\"The highest value in this list is \", str(max(numbers)))\n",
        "\n",
        "# lowest value\n",
        "print(\"The lowest value in this is list \", str(min(numbers)))\n",
        "\n",
        "# sum\n",
        "print(\"The sum of the values in this list is \", str(sum(numbers)))"
      ],
      "metadata": {
        "id": "7_SL-8_jOI9q"
      },
      "execution_count": null,
      "outputs": []
    },
    {
      "cell_type": "markdown",
      "source": [
        "#### Additional Resources\n",
        "\n",
        "List methods:\n",
        "- Creating a list: `[]` or `list()`\n",
        "- Checking length of list: `len()`\n",
        "- Accessing values using index: `fruits[0]`, `fruits.index(\"cherry\")`\n",
        "- Testing for membership: `in` or `not in`\n",
        "- Modifying an existing list value: `fruits[1] = \"new value\"`\n",
        "- Appending a value to a list: `numbers.append(13)`\n",
        "- Inserting a value in a specific position: `numbers.insert(4, 11)`\n",
        "- Extending a list (to include additional values): `numbers.extend(num2)`\n",
        "- Removing values from a list: `numbers.remove(19)`, `numbers.pop(-1)`, `del numbers[7]`\n",
        "- Slicing a list: `dorms[0:3]`\n",
        "- Searching for values: `.count()`, `.index()`\n",
        "- Sorting: `.sort()`, `.sorted()`, `.reverse()`\n",
        "- Summary statistics: `.max()`, `.min()`, `.sum()`\n",
        "\n",
        "More on arrays/lists (general):\n",
        "- Kenneth Leroy Busbee and Dave Braunschweig, \"[Arrays and Lists](https://press.rebus.community/programmingfundamentals/chapter/arrays-and-lists/)\" in *Programming Fundamentals*\n",
        "\n",
        "More on lists in Python:\n",
        "- [W3Schools, Python Lists](https://www.w3schools.com/python/python_lists.asp)\n",
        "- [W3Schools, Python List Methods](https://www.w3schools.com/python/python_lists_methods.asp)\n",
        "- Allen Downey, Chapter 10 \"Lists\" in *[Think Python: How To Think Like a Computer Scientist](https://www.oreilly.com/library/view/think-python-2nd/9781491939406/)* (O'Reilly, 2016): 107-124."
      ],
      "metadata": {
        "id": "irfXJx_VOKmq"
      }
    },
    {
      "cell_type": "markdown",
      "source": [
        "### Looking Ahead\n",
        "\n",
        "In an upcoming lab, we'll look at how to create looping structures (or code blocks that repeat under specific conditions). But for now, let's take a step back and think about how Python interacts with or treats the items in our list.\n",
        "\n",
        "For example, when we're using the `in` operator, how does Python test for membership (i.e. see if the value we're looking for is located in the list)? Python accomplishes this via **iteration**, which involves iterating over each item in the list.\n",
        "\n",
        "So Python starts at the first item in the list (index position `0`), and goes through each item on the list (left to right) until it reaches the end of the list. Again, we will have a whole lab on iteration and loops, but a few quick examples for now just to illustrate the concept of iteration.\n",
        "\n",
        "We can use a **`for` loop** to iterate over the items in a list.\n"
      ],
      "metadata": {
        "id": "_8v7jW4gOL3Q"
      }
    },
    {
      "cell_type": "code",
      "source": [
        "# list of numbers\n",
        "numbers = [1, 3, 5, 7, 9, 11, 13, 15, 17]\n",
        "\n",
        "# sample for loop that iterates over items in list and outputs each number\n",
        "for number in numbers:\n",
        " print(number)"
      ],
      "metadata": {
        "id": "9W_91GR2OMxF"
      },
      "execution_count": null,
      "outputs": []
    },
    {
      "cell_type": "markdown",
      "source": [
        "We can also nest `if` statements in a `for` loop:"
      ],
      "metadata": {
        "id": "RZEZ2CRpONqS"
      }
    },
    {
      "cell_type": "code",
      "source": [
        "# list of numbers\n",
        "numbers = [1, 3, 5, 7, 9, 11, 13, 15, 17]\n",
        "\n",
        "# for loop that iterates over numbers\n",
        "for number in numbers:\n",
        "  if number < 10:\n",
        "    print(str(number) + \" is less than 10\")\n",
        "  elif number > = 10 and number < 15:\n",
        "    print(str(number) + \" is greater than or equal to 10 and less than 15\")\n",
        "  else:\n",
        "    print(str(number) + \" is greater than 15\")"
      ],
      "metadata": {
        "id": "KLz8czg-OOoh"
      },
      "execution_count": null,
      "outputs": []
    },
    {
      "cell_type": "markdown",
      "source": [
        "Again, more to come on loops and iteration.\n",
        "\n",
        "### Comprehension Check\n",
        "\n",
        "<table>\n",
        " <tr><td>\n",
        "<img src=\"https://github.com/kwaldenphd/internet/blob/main/images/clipboard.png?raw=true\" alt=\"Clipboard icon\" width=\"50\"/></td>\n",
        "  <td><a href=\"https://docs.google.com/forms/d/e/1FAIpQLSdJ6e9GsPUCYx3EVw-n9ajIGUo0zAJOEGolkfgNg4aVT0Ix8A/viewform?usp=sf_link\">Lists in Python Comprehension Check</a></td>\n",
        "  </tr>\n",
        "  </table>"
      ],
      "metadata": {
        "id": "Q-C4tItJOPtO"
      }
    },
    {
      "cell_type": "markdown",
      "source": [
        "### Application\n",
        "\n",
        "Q4: Write a program that creates a list of numbers. Use the arguments and syntax presented in this section of the lab to include code in your program that answers the following questions:\n",
        "- What is the length of your list?\n",
        "- What is the number position for each of the items in your list?\n",
        "- How would you return the value of the first item?\n",
        "- How would you return the value of the last item?\n",
        "\n",
        "Answer to this question includes program + comments that document process and explain your code.\n",
        "\n",
        "Q5: Modify your Q4 program (working with the same list), using arguments and syntax covered in this section of the lab to accomplish the following tasks:\n",
        "- Add a new item to your list\n",
        "- Delete an item from your list\n",
        "- Sort your list in-place\n",
        "- Generate a sorted version of your list\n",
        "- Reverse your list in-place\n",
        "- Determine the min and max values for your list\n",
        "\n",
        "Answer to this question includes program + comments that document process and explain your code.\n",
        "\n",
        "Q6: Write a program that creates a list with the following values: `[[0, 1], [2, 3], [4, 5]]`. Use the arguments and syntax presented in this section of the lab to include code in your program that answers the following questions:\n",
        "- What is the second element?\n",
        "- How would you change 4 to 'four'?\n",
        "- How would you change 1 to 'one'?\n",
        "- How would you print out each sub-list (one sub-list per line)?\n",
        "  * *HINT: Could a `for` loop be helpful for this task?*\n",
        "- How would you print out each number (one number per line)?\n",
        "  * *HINT: Could a `for` loop be helpful for this task?*\n",
        "\n",
        "Answer to this question includes program + comments that document process and explain your code.\n",
        "\n",
        "Q7: Modify your Q6 program (working with the same list), using arguments and syntax covered in this section of the lab to accomplish the following tasks:\n",
        "- Add a new item to your list\n",
        "- Delete an item from your list\n",
        "- Sort your list in-place\n",
        "- Generate a sorted version of your list\n",
        "- Reverse your list in-place\n",
        "- Determine the min and max values for your list\n",
        "\n",
        "Answer to this question includes program + comments that document process and explain your code."
      ],
      "metadata": {
        "id": "FpanKe5AORNH"
      }
    },
    {
      "cell_type": "markdown",
      "source": [
        "## Dictionaries\n",
        "\n",
        "<p align=\"center\"><img src=\"https://github.com/kwaldenphd/python-data-structures/blob/main/images/Key_Value_2.png?raw=true\" width=\"500\"></p>\n",
        "\n",
        "Python stores associate arrays using the **dictionary** data structure. Python dictionaries consist of key-value pairs, where the key is working as an identifier or index. To put that another way, a dictionary is a mapping between a set of indeces (keys) and a set of values. Each key maps to a value, and the association of a key and a value is called a **key-value pair**.\n",
        "\n",
        "Some dictionary syntax we encountered previously in this lab:"
      ],
      "metadata": {
        "id": "ZWXw_mi3OSLf"
      }
    },
    {
      "cell_type": "code",
      "source": [
        "# create dictionary\n",
        "english_to_french = {\n",
        "  'one': 'un',\n",
        "  'two': 'deux',\n",
        "  'three': 'trois',\n",
        "  'four': 'quatre',\n",
        "  'five': 'cinq'\n",
        "}\n",
        "\n",
        "# check data type\n",
        "type(english_to_french)"
      ],
      "metadata": {
        "id": "7ibMe45qOTWq"
      },
      "execution_count": null,
      "outputs": []
    },
    {
      "cell_type": "markdown",
      "source": [
        "We can also create a dictionary using the `dict()` function."
      ],
      "metadata": {
        "id": "fQf30TwqOT63"
      }
    },
    {
      "cell_type": "code",
      "source": [
        "# create dictionary\n",
        "english_to_french = dict({\n",
        "  'one': 'un',\n",
        "  'two': 'deux',\n",
        "  'three': 'trois',\n",
        "  'four': 'quatre',\n",
        "  'five': 'cinq'\n",
        "}\n",
        "\n",
        "# check data type\n",
        "type(english_to_french)"
      ],
      "metadata": {
        "id": "ohEWdX96OUsZ"
      },
      "execution_count": null,
      "outputs": []
    },
    {
      "cell_type": "markdown",
      "source": [
        "We can use the index operator (`[]`) and key values to select specific values in the dictionary."
      ],
      "metadata": {
        "id": "lUHLGEUaOVsn"
      }
    },
    {
      "cell_type": "code",
      "source": [
        "# access value for one key\n",
        "english_to_french['one']\n",
        "\n",
        "# access value for five key\n",
        "english_to_french['five']\n",
        "\n",
        "# access value for asdf key\n",
        "english_to_french['asdf']"
      ],
      "metadata": {
        "id": "4yK3v6QsOWdV"
      },
      "execution_count": null,
      "outputs": []
    },
    {
      "cell_type": "markdown",
      "source": [
        "The last line will return a `KeyError` because `asdf` is not a key in this dictionary.\n",
        "\n",
        "We can use the `.keys()` and `.values()` methods to output all of the keys or values in a dictionary."
      ],
      "metadata": {
        "id": "0ckV5eWKOXXY"
      }
    },
    {
      "cell_type": "code",
      "source": [
        "# output keys\n",
        "print(english_to_french.keys())\n",
        "\n",
        "# output values\n",
        "print(english_to_french.values())"
      ],
      "metadata": {
        "id": "iFhkp8iMOYRX"
      },
      "execution_count": null,
      "outputs": []
    },
    {
      "cell_type": "markdown",
      "source": [
        "We can also use iteration to output the keys or values in a dictionary. Let's say we want to iterate by keys through our dictionary.\n",
        "\n",
        "We can use a `for` loop to tell Python \"`FOR` each key-value pair in my dictionary...do this thing!\"\n",
        "\n",
        "An example that prints out the key for each key-value pair:\n"
      ],
      "metadata": {
        "id": "iiOvEBnoOZQe"
      }
    },
    {
      "cell_type": "code",
      "source": [
        "# for loop that outputs keys\n",
        "for key in english_to_french.keys():\n",
        "  print(key)"
      ],
      "metadata": {
        "id": "JuUvvg3_OaVr"
      },
      "execution_count": null,
      "outputs": []
    },
    {
      "cell_type": "markdown",
      "source": [
        "We can also iterate over key-value pairs, using the `.items()` method."
      ],
      "metadata": {
        "id": "vjEz7QL8ObOG"
      }
    },
    {
      "cell_type": "code",
      "source": [
        "# for loop that outputs key-value pairs using items\n",
        "for key, value, in english_to_french.items():\n",
        "  print(key, value)"
      ],
      "metadata": {
        "id": "My7nLY-zOcLT"
      },
      "execution_count": null,
      "outputs": []
    },
    {
      "cell_type": "markdown",
      "source": [
        "Again, more on iteration in an upcoming lab.\n",
        "\n",
        "### Modifying\n",
        "\n",
        "We can modify values in our dictionary using the index `[]` and assignment `=` operators. This is also the workflow we would use to add values to a dictionary."
      ],
      "metadata": {
        "id": "r4iouz7TOdHI"
      }
    },
    {
      "cell_type": "code",
      "source": [
        "# create new dictionary\n",
        "numbers = {\n",
        "  '1': 'one',\n",
        "  '2': 'two',\n",
        "  '3': 'five'\n",
        "}\n",
        "\n",
        "# modify value for 3 key\n",
        "numbers['3'] = 'three'\n",
        "\n",
        "# add key-value pairs to dictionary\n",
        "numbers['4'] = 'four'\n",
        "numbers['5'] = 'five'\n",
        "numbers['6'] = 'six'\n",
        "\n",
        "# show updated dictionary\n",
        "for key value in numbers.items():\n",
        "  print(key, value)"
      ],
      "metadata": {
        "id": "lO9Q77bCOeX3"
      },
      "execution_count": null,
      "outputs": []
    },
    {
      "cell_type": "markdown",
      "source": [
        "For more on dictionaries in Python:\n",
        "- [W3Schools, Python Dictionaries](https://www.w3schools.com/python/python_dictionaries.asp)\n",
        "- Allen Downey, Chapter 11 \"Dictionaries\" in *[Think Python: How To Think Like a Computer Scientist](https://www.oreilly.com/library/view/think-python-2nd/9781491939406/)* (O'Reilly, 2016): 125-138.\n",
        "\n",
        "### Comprehension Check\n",
        "\n",
        "<table>\n",
        " <tr><td>\n",
        "<img src=\"https://github.com/kwaldenphd/internet/blob/main/images/clipboard.png?raw=true\" alt=\"Clipboard icon\" width=\"50\"/></td>\n",
        "  <td><a href=\"https://docs.google.com/forms/d/e/1FAIpQLScf-FDL2IyVOf0Kj3knOZukP__rcAZuCiukTmFUQDXz8KffMA/viewform?usp=sf_link\">Dictionaries in Python Comprehension Check</a></td>\n",
        "  </tr>\n",
        "  </table>"
      ],
      "metadata": {
        "id": "sdKTUZsEOfft"
      }
    },
    {
      "cell_type": "markdown",
      "source": [
        "### Application\n",
        "\n",
        "Q8: Write a program that creates a dictionary on a topic of your choosing. Include at least 5 key-value pairs. Use arguments and syntax covered in this section of the lab to accomplish the following tasks:\n",
        "- Add a new element to your dictionary\n",
        "- Update or modify an element in your dictionary\n",
        "- Print a list of all the keys in your dictionary\n",
        "- Print a list of all the values in your dictionary\n",
        "\n",
        "Answer to this question includes program + comments that document process and explain your code."
      ],
      "metadata": {
        "id": "gfWwhwniOgh2"
      }
    },
    {
      "cell_type": "markdown",
      "source": [
        "## Tuples\n",
        "\n",
        "\"Tuples are used to store multiple items in a single variable...A tuple is a collection which is ordered and unchangeable. Tuples are written with round brackets...and allow duplicate values\" ([W3Schools, Python Tuples](https://www.w3schools.com/python/python_tuples.asp))\n",
        "\n",
        "We can create a tuple in Python using the round bracket syntax `(())` or the `tuple()` method."
      ],
      "metadata": {
        "id": "H7VHTa5wOhbr"
      }
    },
    {
      "cell_type": "code",
      "source": [
        "# creating a tuple using round brackets\n",
        "sample = (\"apple\", \"banana\", \"blueberry\")\n",
        "\n",
        "# checking data type\n",
        "type(sample)"
      ],
      "metadata": {
        "id": "cCl1mqGzOiss"
      },
      "execution_count": null,
      "outputs": []
    },
    {
      "cell_type": "code",
      "source": [
        "# creating tuple using tuple method\n",
        "sample = tuple((\"apple\", \"banana\", \"blueberry\"))\n",
        "\n",
        "# check data type\n",
        "type(sample)"
      ],
      "metadata": {
        "id": "5kPa5eWrOj0X"
      },
      "execution_count": null,
      "outputs": []
    },
    {
      "cell_type": "markdown",
      "source": [
        "Some of the methods we've already seen for lists and strings can also be used with tuples."
      ],
      "metadata": {
        "id": "_9Q1Wn3OOkXv"
      }
    },
    {
      "cell_type": "code",
      "source": [
        "# return number of items in tuple\n",
        "len(sample)\n",
        "\n",
        "# access first item in tuple\n",
        "sample[0]\n",
        "\n",
        "# count number of times specific value appears in  tuple\n",
        "sample.count(\"apple\")\n",
        "\n",
        "# return index for specific value\n",
        "sample.index(\"pear\")"
      ],
      "metadata": {
        "id": "lzvogmwIOlP9"
      },
      "execution_count": null,
      "outputs": []
    },
    {
      "cell_type": "markdown",
      "source": [
        "NOTE: The last line of code will return an error because `peach` does not appear in this tuple.\n",
        "\n",
        "For more on tuples in Python:\n",
        "- [W3Schools, Python Tuples](https://www.w3schools.com/python/python_tuples.asp)\n",
        "- Allen Downey, Chapter 12 \"Tuples\" in *[Think Python: How To Think Like a Computer Scientist](https://www.oreilly.com/library/view/think-python-2nd/9781491939406/)* (O'Reilly, 2016): 139-150."
      ],
      "metadata": {
        "id": "htQWXukGOmiN"
      }
    },
    {
      "cell_type": "markdown",
      "source": [
        "## Sets\n",
        "\n",
        "<p align=\"center\"><img src=\"https://github.com/kwaldenphd/python-data-structures/blob/main/images/Python_Sets.jpg?raw=true\" width=\"500\"></p>\n",
        "\n",
        "A set is an unordered collection of unique objects. Sets are primarily used to see if an object or value is in the collection (membership). Python supports a number of set operations, but one of the primary uses is to test for membership.\n",
        "\n",
        "We can use the `in` operator to test for membership with a set."
      ],
      "metadata": {
        "id": "RIpKzXSlOnnj"
      }
    },
    {
      "cell_type": "code",
      "source": [
        "# create a set\n",
        "s = set([0,1,2])\n",
        "\n",
        "# show set values\n",
        "s\n",
        "\n",
        "# test if 0 is in s\n",
        "0 in s # returns true\n",
        "\n",
        "# test if 7 is in s\n",
        "7 in s # returns false"
      ],
      "metadata": {
        "id": "tfgdJ_X-Oo4P"
      },
      "execution_count": null,
      "outputs": []
    },
    {
      "cell_type": "markdown",
      "source": [
        "We can add items to our set using `.add()` or remove them using `.remove()`."
      ],
      "metadata": {
        "id": "tBKGaAVDOp28"
      }
    },
    {
      "cell_type": "code",
      "source": [
        "# add values to set\n",
        "s.add(3)\n",
        "s.add(4)\n",
        "s.add(5)\n",
        "\n",
        "# show new set with values\n",
        "s"
      ],
      "metadata": {
        "id": "_MTTLC2wOrfJ"
      },
      "execution_count": null,
      "outputs": []
    },
    {
      "cell_type": "code",
      "source": [
        "# remove 1 number value from set\n",
        "s.remove(5)\n",
        "\n",
        "# show updated set\n",
        "s"
      ],
      "metadata": {
        "id": "4SNzqV-6Oszj"
      },
      "execution_count": null,
      "outputs": []
    },
    {
      "cell_type": "markdown",
      "source": [
        "For more on sets in Python:\n",
        "- [W3Schools, Python Sets](https://www.w3schools.com/python/python_sets.asp)\n",
        "\n",
        "### Comprehension Check (Tuples and Sets)\n",
        "\n",
        "<table>\n",
        " <tr><td>\n",
        "<img src=\"https://github.com/kwaldenphd/internet/blob/main/images/clipboard.png?raw=true\" alt=\"Clipboard icon\" width=\"50\"/></td>\n",
        "  <td><a href=\"https://docs.google.com/forms/d/e/1FAIpQLSf63bUSp3wlTnPz_ZTGCKjW-uotPYYD6FaOH9R3DqtFJPY_hg/viewform?usp=sf_link\">Tuples and Sets in Python Comprehension Check</a></td>\n",
        "  </tr>\n",
        "  </table>"
      ],
      "metadata": {
        "id": "JQUCosK3OuDR"
      }
    },
    {
      "cell_type": "markdown",
      "source": [
        "### Application (Tuples and Sets)\n",
        "\n",
        "Q9: Write a program that creates a tuple with at least 4 values. Use arguments and syntax covered in this section of the lab to accomplish the following tasks:\n",
        "- Count the number of times a specific value appears\n",
        "- Return the index for a specific value\n",
        "- Access a value using its index\n",
        "\n",
        "Answer to this question includes program + comments that document process and explain your code.\n",
        "\n",
        "Q10: Write a program that creates the set `s` with the following values: `[1, 3, 5, 7, 9]`. Use arguments and syntax covered in this section of the lab to accomplish the following tasks:\n",
        "- Test to see if the value `11` is a member of the set\n",
        "- Test to see if the value `7` is a member of the set\n",
        "- Add a value to the set\n",
        "- Remove a value from the set\n",
        "\n",
        "Answer to this question includes program + comments that document process and explain your code."
      ],
      "metadata": {
        "id": "ax4cXqFcOu9q"
      }
    },
    {
      "cell_type": "markdown",
      "source": [
        "# Putting It All Together\n",
        "\n",
        "<p align=\"center\"><img src=\"https://github.com/kwaldenphd/python-data-structures/blob/main/images/Python_Array_Comparison.png?raw=true\" width=\"500\"></p>\n",
        "\n",
        "For these last few questions, you can use any of the data structures and arguments/syntax presented in this lab. As part of your answer, include a brief explanation for why you choose a particular data structure for the task.\n",
        "\n",
        "Q11: Write a program that asks a user to input their current or former Notre Dame residence hall and returns or outputs that hall's mascot ([link to table with list of halls and mascots](https://en.wikipedia.org/wiki/University_of_Notre_Dame_residence_halls#List)).\n",
        "\n",
        "Sample output for this program:\n",
        "\n",
        "```\n",
        "Howard Hall's mascot is ducks!\n",
        "```\n",
        "\n",
        "Answer to this question includes program + comments that document process and explain your code, as well as a brief explanation for the data structure/approach you chose for this program.\n",
        "\n",
        "Q12: In a previous lab, you wrote a program that asks the user to enter a color value and returns an output message indicating whether the color is a primary, secondary, or tertiary color (using a combination of the `input()` function, comparison operators, `if-then-else` logic, and Boolean logical operators).\n",
        "\n",
        "Primary colors:\n",
        "- Red\n",
        "- Yellow\n",
        "- Blue\n",
        "\n",
        "Secondary colors:\n",
        "- Green\n",
        "- Orange\n",
        "- Purple\n",
        "\n",
        "Tertiary colors:\n",
        "- Amber\n",
        "- Vermillion\n",
        "- Magenta\n",
        "- Violet\n",
        "- Teal\n",
        "- Chartreuse\n",
        "\n",
        "Let's revisit and rewrite this program- how could you approach this task using the data structures and syntax presented in this lab?\n",
        "\n",
        "Answer to this question includes program + comments that document process and explain your code, as well as a brief explanation for the data structure/approach you chose for this program.\n",
        "\n",
        "Q13: Describe the five data structures covered in this lab (strings, lists, dictionaries, tuples, sets) in your own words. How are they similar? What are key differences? What kinds of tasks/contexts/problems would benefit from specific structures?\n",
        "- NOTE: You are welcome to include code as part of this answer, but a code component is not required."
      ],
      "metadata": {
        "id": "a1Zh3bqcOw-l"
      }
    },
    {
      "cell_type": "markdown",
      "source": [
        "## Additional Resources\n",
        "\n",
        "Allen Downey, *[Think Python: How To Think Like a Computer Scientist](https://www.oreilly.com/library/view/think-python-2nd/9781491939406/)* (O'Reilly, 2016).\n",
        "- Includes chapters on strings, lists, tuples, and dictionaries\n",
        "\n",
        "Section 3.1 from Chapter 3 \"Built-in Data Structures, Functions, and Files\" in Wes McKinney's *[Python for Data Analysis, 3rd edition](https://www.oreilly.com/library/view/python-for-data/9781098104023/)* (O'Reilly, 2022): 51-68."
      ],
      "metadata": {
        "id": "LC_ylE-aOyPM"
      }
    },
    {
      "cell_type": "markdown",
      "source": [
        "# Lab Notebook Questions\n",
        "\n",
        "Lab notebook: [Jupyter Notebook, `.ipynb`](https://colab.research.google.com/drive/1CFH4_ujHmTHoDe6Rrv82UeFHYq6rVMKp?usp=sharing) (Google Colab, ND users)\n",
        "\n",
        "Q1: Write a program that converts integer, float, or boolean values to a string, using the `str()` function.\n",
        "\n",
        "Q2: Write a program that prompts the user to enter a 6-letter word, and then prints the first, third, and fifth letters of that word.\n",
        "\n",
        "Q3: Modify the program provided below to search for the character `q` or `u` in the string. Does it always return the index number you expect? What index is returned if you ask for the index of the letter u (i.e., what happens when the desired character appears more than once in the string)?\n",
        "\n",
        "```Python\n",
        "# program you're modifying for Q8\n",
        "# assign string variable\n",
        "color = \"turquoise\"\n",
        "\n",
        "# get index number of t character\n",
        "index_number = color.index(\"t\")\n",
        "\n",
        "# show index number as part of print statement\n",
        "print (\"The index number for the letter t within the word \" + color + \" is \" + index_number)\n",
        "```\n",
        "\n",
        "Q4: Write a program that creates a list of numbers. Use the arguments and syntax presented in this section of the lab to include code in your program that answers the following questions:\n",
        "- What is the length of your list?\n",
        "- What is the number position for each of the items in your list?\n",
        "- How would you return the value of the first item?\n",
        "- How would you return the value of the last item?\n",
        "\n",
        "Answer to this question includes program + comments that document process and explain your code.\n",
        "\n",
        "Q5: Modify your Q4 program (working with the same list), using arguments and syntax covered in this section of the lab to accomplish the following tasks:\n",
        "- Add a new item to your list\n",
        "- Delete an item from your list\n",
        "- Sort your list in-place\n",
        "- Generate a sorted version of your list\n",
        "- Reverse your list in-place\n",
        "- Determine the min and max values for your list\n",
        "\n",
        "Answer to this question includes program + comments that document process and explain your code.\n",
        "\n",
        "Q6: Write a program that creates a list with the following values: `[[0, 1], [2, 3], [4, 5]]`. Use the arguments and syntax presented in this section of the lab to include code in your program that answers the following questions:\n",
        "- What is the second element?\n",
        "- How would you change 4 to 'four'?\n",
        "- How would you change 1 to 'one'?\n",
        "- How would you print out each sub-list (one sub-list per line)?\n",
        "  * *HINT: Could a `for` loop be helpful for this task?*\n",
        "- How would you print out each number (one number per line)?\n",
        "  * *HINT: Could a `for` loop be helpful for this task?*\n",
        "\n",
        "Answer to this question includes program + comments that document process and explain your code.\n",
        "\n",
        "Q7: Modify your Q6 program (working with the same list), using arguments and syntax covered in this section of the lab to accomplish the following tasks:\n",
        "- Add a new item to your list\n",
        "- Delete an item from your list\n",
        "- Sort your list in-place\n",
        "- Generate a sorted version of your list\n",
        "- Reverse your list in-place\n",
        "- Determine the min and max values for your list\n",
        "\n",
        "Answer to this question includes program + comments that document process and explain your code.\n",
        "\n",
        "Q8: Write a program that creates a dictionary on a topic of your choosing. Include at least 5 key-value pairs. Use arguments and syntax covered in this section of the lab to accomplish the following tasks:\n",
        "- Add a new element to your dictionary\n",
        "- Update or modify an element in your dictionary\n",
        "- Print a list of all the keys in your dictionary\n",
        "- Print a list of all the values in your dictionary\n",
        "\n",
        "Answer to this question includes program + comments that document process and explain your code.\n",
        "\n",
        "Q9: Write a program that creates a tuple with at least 4 values. Use arguments and syntax covered in this section of the lab to accomplish the following tasks:\n",
        "- Count the number of times a specific value appears\n",
        "- Return the index for a specific value\n",
        "- Access a value using its index\n",
        "\n",
        "Answer to this question includes program + comments that document process and explain your code.\n",
        "\n",
        "Q10: Write a program that creates the set `s` with the following values: `[1, 3, 5, 7, 9]`. Use arguments and syntax covered in this section of the lab to accomplish the following tasks:\n",
        "- Test to see if the value `11` is a member of the set\n",
        "- Test to see if the value `7` is a member of the set\n",
        "- Add a value to the set\n",
        "- Remove a value from the set\n",
        "\n",
        "Answer to this question includes program + comments that document process and explain your code.\n",
        "\n",
        "Q11: Write a program that asks a user to input their current or former Notre Dame residence hall and returns or outputs that hall's mascot ([link to table with list of halls and mascots](https://en.wikipedia.org/wiki/University_of_Notre_Dame_residence_halls#List)).\n",
        "\n",
        "Sample output for this program:\n",
        "\n",
        "```\n",
        "Howard Hall's mascot is ducks!\n",
        "```\n",
        "\n",
        "Answer to this question includes program + comments that document process and explain your code, as well as a brief explanation for the data structure/approach you chose for this program.\n",
        "\n",
        "Q12: In a previous lab, you wrote a program that asks the user to enter a color value and returns an output message indicating whether the color is a primary, secondary, or tertiary color (using a combination of the `input()` function, comparison operators, `if-then-else` logic, and Boolean logical operators).\n",
        "\n",
        "Primary colors:\n",
        "- Red\n",
        "- Yellow\n",
        "- Blue\n",
        "\n",
        "Secondary colors:\n",
        "- Green\n",
        "- Orange\n",
        "- Purple\n",
        "\n",
        "Tertiary colors:\n",
        "- Amber\n",
        "- Vermillion\n",
        "- Magenta\n",
        "- Violet\n",
        "- Teal\n",
        "- Chartreuse\n",
        "\n",
        "Let's revisit and rewrite this program- how could you approach this task using the data structures and syntax presented in this lab?\n",
        "\n",
        "Answer to this question includes program + comments that document process and explain your code, as well as a brief explanation for the data structure/approach you chose for this program.\n",
        "\n",
        "Q13: Describe the five data structures covered in this lab (strings, lists, dictionaries, tuples, sets) in your own words. How are they similar? What are key differences? What kinds of tasks/contexts/problems would benefit from specific structures?"
      ],
      "metadata": {
        "id": "0vrVssJ-O0sP"
      }
    }
  ]
}