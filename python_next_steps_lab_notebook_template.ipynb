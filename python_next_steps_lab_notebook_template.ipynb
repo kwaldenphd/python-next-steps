{
  "nbformat": 4,
  "nbformat_minor": 0,
  "metadata": {
    "colab": {
      "provenance": [],
      "toc_visible": true,
      "authorship_tag": "ABX9TyP5w88yhujVgukG0yjL/SSs",
      "include_colab_link": true
    },
    "kernelspec": {
      "name": "python3",
      "display_name": "Python 3"
    },
    "language_info": {
      "name": "python"
    }
  },
  "cells": [
    {
      "cell_type": "markdown",
      "metadata": {
        "id": "view-in-github",
        "colab_type": "text"
      },
      "source": [
        "<a href=\"https://colab.research.google.com/github/kwaldenphd/python-next-steps/blob/main/python_next_steps_lab_notebook_template.ipynb\" target=\"_parent\"><img src=\"https://colab.research.google.com/assets/colab-badge.svg\" alt=\"Open In Colab\"/></a>"
      ]
    },
    {
      "cell_type": "markdown",
      "source": [
        "# Python Next Steps"
      ],
      "metadata": {
        "id": "s--z5zOb4heD"
      }
    },
    {
      "cell_type": "markdown",
      "metadata": {
        "id": "ff876fb9"
      },
      "source": [
        "Student Name: **Enter Your Name Here (Double click to edit)**\n",
        "<br>\n",
        "Net ID: **Enter Your NetID Here (Double click to edit)**\n",
        "<br>"
      ]
    },
    {
      "cell_type": "markdown",
      "source": [
        "# Part I Lab Notebook Questions"
      ],
      "metadata": {
        "id": "nhrRPzmw4oQ0"
      }
    },
    {
      "cell_type": "markdown",
      "source": [
        "### **Q1: Write a program that converts integer, float, or boolean values to a string, using the `str()` function.**"
      ],
      "metadata": {
        "id": "pgEKP1FtpExo"
      }
    },
    {
      "cell_type": "markdown",
      "metadata": {
        "id": "L0cFnREpis-5"
      },
      "source": [
        "**AnswerQ1**: Your answer here (double click to edit)"
      ]
    },
    {
      "cell_type": "code",
      "source": [
        "# your codes here (double click to edit)"
      ],
      "metadata": {
        "id": "3ljNdsyxpQRa"
      },
      "execution_count": null,
      "outputs": []
    },
    {
      "cell_type": "markdown",
      "source": [
        "### **Q2: Write a program that prompts the user to enter a 6-letter word, and then prints the first, third, and fifth letters of that word.**"
      ],
      "metadata": {
        "id": "FembQg4kp_M2"
      }
    },
    {
      "cell_type": "markdown",
      "metadata": {
        "id": "v2XYT06SpfJQ"
      },
      "source": [
        "**AnswerQ2**: Your answer here (double click to edit)"
      ]
    },
    {
      "cell_type": "code",
      "source": [
        "# your codes here (double click to edit)"
      ],
      "metadata": {
        "id": "tY_xjVyoiRLu"
      },
      "execution_count": null,
      "outputs": []
    },
    {
      "cell_type": "markdown",
      "source": [
        "### **Q3: Modify the program provided below to search for the character `q` or `u` in the string. Does it always return the index number you expect? What index is returned if you ask for the index of the letter u (i.e., what happens when the desired character appears more than once in the string)?**"
      ],
      "metadata": {
        "id": "3URjcSZDpbFu"
      }
    },
    {
      "cell_type": "markdown",
      "metadata": {
        "id": "mB-kFikxis_I"
      },
      "source": [
        "**AnswerQ3:** Your answer here (double click to edit)"
      ]
    },
    {
      "cell_type": "code",
      "source": [
        "# program you're modifying for Q8\n",
        "# assign string variable\n",
        "color = \"turquoise\"\n",
        "\n",
        "# get index number of t character\n",
        "index_number = color.index(\"t\")\n",
        "\n",
        "# show index number as part of print statement\n",
        "print (\"The index number for the letter t within the word \" + color + \" is \" + index_number)"
      ],
      "metadata": {
        "id": "A6V_hAk7hcFB"
      },
      "execution_count": null,
      "outputs": []
    },
    {
      "cell_type": "code",
      "source": [
        "# your codes here (double click to edit)"
      ],
      "metadata": {
        "id": "UEfw6psfpgsa"
      },
      "execution_count": null,
      "outputs": []
    },
    {
      "cell_type": "markdown",
      "source": [
        "### **Q4: Write a program that creates a list of numbers. Use the arguments and syntax presented in this section of the lab to include code in your program that answers the following questions:**\n",
        "- **What is the length of your list?**\n",
        "- **What is the number position for each of the items in your list?**\n",
        "- **How would you return the value of the first item?**\n",
        "- **How would you return the value of the last item?**\n",
        "\n",
        "**Answer to this question includes program + comments that document process and explain your code.**"
      ],
      "metadata": {
        "id": "NIornfjZpmFy"
      }
    },
    {
      "cell_type": "markdown",
      "metadata": {
        "id": "Cf3iN_D7is_N"
      },
      "source": [
        "**AnswerQ4:** Your answer here (double click to edit)"
      ]
    },
    {
      "cell_type": "code",
      "execution_count": null,
      "metadata": {
        "id": "r_wK6Djjd3TQ"
      },
      "outputs": [],
      "source": [
        "# your codes here (double click to edit)\n",
        "\n",
        "# create list of numbers\n",
        "\n",
        "# length of list\n",
        "\n",
        "# numer position for each list item\n",
        "\n",
        "# value of first item\n",
        "\n",
        "# value of last item"
      ]
    },
    {
      "cell_type": "markdown",
      "source": [
        "### **Q5: Modify your Q4 program (working with the same list), using arguments and syntax covered in this section of the lab to accomplish the following tasks:**\n",
        "- **Add a new item to your list**\n",
        "- **Delete an item from your list**\n",
        "- **Sort your list in-place**\n",
        "- **Generate a sorted version of your list**\n",
        "- **Reverse your list in-place**\n",
        "- **Determine the min and max values for your list**\n",
        "\n",
        "**Answer to this question includes program + comments that document process and explain your code.**"
      ],
      "metadata": {
        "id": "ymUHiLayptBD"
      }
    },
    {
      "cell_type": "markdown",
      "metadata": {
        "id": "3BAA-_Vyis_X"
      },
      "source": [
        "**AnswerQ5:** Your answer here (double click to edit)"
      ]
    },
    {
      "cell_type": "code",
      "execution_count": null,
      "metadata": {
        "id": "9lT7urowd9w3"
      },
      "outputs": [],
      "source": [
        "# your codes here (double click to edit)\n",
        "\n",
        "# if needed: recreate list of numbers\n",
        "\n",
        "# add new item\n",
        "\n",
        "# delete item\n",
        "\n",
        "# sort in-place\n",
        "\n",
        "# generate sorted version\n",
        "\n",
        "# reverse in-place\n",
        "\n",
        "# max value\n",
        "\n",
        "# min value"
      ]
    },
    {
      "cell_type": "markdown",
      "source": [
        "### **Q6: Write a program that creates a list with the following values: `[[0, 1], [2, 3], [4, 5]]`. Use the arguments and syntax presented in this section of the lab to include code in your program that answers the following questions:**\n",
        "- **What is the second element?**\n",
        "- **How would you change 4 to 'four'?**\n",
        "- **How would you change 1 to 'one'?**\n",
        "- **How would you print out each sub-list (one sub-list per line)?**\n",
        "  * *HINT: Could a `for` loop be helpful for this task?*\n",
        "- **How would you print out each number (one number per line)?**\n",
        "  * *HINT: Could a `for` loop be helpful for this task?*\n",
        "\n",
        "**Answer to this question includes program + comments that document process and explain your code.**"
      ],
      "metadata": {
        "id": "HtUKT1xNqJQy"
      }
    },
    {
      "cell_type": "markdown",
      "metadata": {
        "id": "hcRpdIN_is_b"
      },
      "source": [
        "**AnswerQ6:** Your answer here (double click to edit)"
      ]
    },
    {
      "cell_type": "code",
      "execution_count": null,
      "metadata": {
        "id": "cBAd2bpPqUn2"
      },
      "outputs": [],
      "source": [
        "# your codes here (double click to edit)\n",
        "\n",
        "# create list with sublists\n",
        "numbers = [[0, 1], [2, 3], [4, 5]]\n",
        "\n",
        "# isolate second element\n",
        "\n",
        "# change 4 to 'four'\n",
        "\n",
        "# change 1 to 'one'\n",
        "\n",
        "# print out each sublist\n",
        "\n",
        "# print out each number"
      ]
    },
    {
      "cell_type": "markdown",
      "source": [
        "### **Q7: Modify your Q6 program (working with the same list), using arguments and syntax covered in this section of the lab to accomplish the following tasks:**\n",
        "- **Add a new item to your list**\n",
        "- **Delete an item from your list**\n",
        "- **Sort your list in-place**\n",
        "- **Generate a sorted version of your list**\n",
        "- **Reverse your list in-place**\n",
        "- **Determine the min and max values for your list**\n",
        "\n",
        "**Answer to this question includes program + comments that document process and explain your code.**"
      ],
      "metadata": {
        "id": "vu71MpmSivh5"
      }
    },
    {
      "cell_type": "markdown",
      "metadata": {
        "id": "tihNYy4uis_c"
      },
      "source": [
        "**AnswerQ7:** Your answer here (double click to edit)"
      ]
    },
    {
      "cell_type": "code",
      "execution_count": null,
      "metadata": {
        "id": "QIfSeDcOi2Hb"
      },
      "outputs": [],
      "source": [
        "# your codes here (double click to edit)\n",
        "\n",
        "# if needed: recreate list of numbers\n",
        "\n",
        "# add new item\n",
        "\n",
        "# delete item\n",
        "\n",
        "# sort in-place\n",
        "\n",
        "# generate sorted version\n",
        "\n",
        "# reverse in-place\n",
        "\n",
        "# max value\n",
        "\n",
        "# min value"
      ]
    },
    {
      "cell_type": "markdown",
      "source": [
        "### **Q8: Write a program that creates a dictionary on a topic of your choosing. Include at least 5 key-value pairs. Use arguments and syntax covered in this section of the lab to accomplish the following tasks:**\n",
        "- **Add a new element to your dictionary**\n",
        "- **Update or modify an element in your dictionary**\n",
        "- **Print a list of all the keys in your dictionary**\n",
        "- **Print a list of all the values in your dictionary**\n",
        "\n",
        "**Answer to this question includes program + comments that document process and explain your code.**"
      ],
      "metadata": {
        "id": "5dvuisBPq3so"
      }
    },
    {
      "cell_type": "markdown",
      "metadata": {
        "id": "SEFRnAoNis_f"
      },
      "source": [
        "**AnswerQ8:** Your answer here (double click to edit)"
      ]
    },
    {
      "cell_type": "code",
      "execution_count": null,
      "metadata": {
        "id": "n3vQgJOgq66N"
      },
      "outputs": [],
      "source": [
        "# your codes here (double click to edit)\n",
        "\n",
        "# create dictionary\n",
        "\n",
        "# update/modify element\n",
        "\n",
        "# show keys\n",
        "\n",
        "# show values"
      ]
    },
    {
      "cell_type": "markdown",
      "source": [
        "### **Q9: Write a program that creates a tuple with at least 4 values. Use arguments and syntax covered in this section of the lab to accomplish the following tasks:**\n",
        "- **Count the number of times a specific value appears**\n",
        "- **Return the index for a specific value**\n",
        "- **Access a value using its index**\n",
        "\n",
        "**Answer to this question includes program + comments that document process and explain your code.**"
      ],
      "metadata": {
        "id": "ACOEEc_spzdB"
      }
    },
    {
      "cell_type": "markdown",
      "metadata": {
        "id": "yNYGMUIHenNC"
      },
      "source": [
        "**AnswerQ9:** Your answer here (double click to edit)"
      ]
    },
    {
      "cell_type": "code",
      "execution_count": null,
      "metadata": {
        "id": "mXYePnBLec-U"
      },
      "outputs": [],
      "source": [
        "# your codes here (double click to edit)\n",
        "\n",
        "# create tuple\n",
        "\n",
        "# count value occurrences\n",
        "\n",
        "# return index\n",
        "\n",
        "# access value using index"
      ]
    },
    {
      "cell_type": "markdown",
      "source": [
        "### **Q10: Write a program that creates the set `s` with the following values: `[1, 3, 5, 7, 9]`. Use arguments and syntax covered in this section of the lab to accomplish the following tasks:**\n",
        "- **Test to see if the value `11` is a member of the set**\n",
        "- **Test to see if the value `7` is a member of the set**\n",
        "- **Add a value to the set**\n",
        "- **Remove a value from the set**\n",
        "\n",
        "**Answer to this question includes program + comments that document process and explain your code**"
      ],
      "metadata": {
        "id": "lOr3Pz7RjT3L"
      }
    },
    {
      "cell_type": "markdown",
      "metadata": {
        "id": "YA2gDTrmjUuF"
      },
      "source": [
        "**AnswerQ10:** Your answer here (double click to edit)"
      ]
    },
    {
      "cell_type": "code",
      "execution_count": null,
      "metadata": {
        "id": "syCSgsNgjVny"
      },
      "outputs": [],
      "source": [
        "# your codes here (double click to edit)\n",
        "\n",
        "# create set\n",
        "\n",
        "# test for membership, 11\n",
        "\n",
        "# test for membership, 7\n",
        "\n",
        "# add a value\n",
        "\n",
        "# remove a value"
      ]
    },
    {
      "cell_type": "markdown",
      "source": [
        "# Part II Lab Notebook Questions"
      ],
      "metadata": {
        "id": "Wwwre6TE5AJs"
      }
    },
    {
      "cell_type": "markdown",
      "source": [
        "### **Q11: Write a program that asks a user to enter a color value and returns an output message comparing that value with your favorite color. This program will use a combination of the `input()` function, comparison operators, and `if-then-else` logic. Answer to this question includes program + comments that document process and explain your code.**\n",
        "\n",
        "Sample output for this program:\n",
        "```\n",
        "Your favorite color: green\n",
        "\n",
        "My age: blue\n",
        "\n",
        "We don't have the same favorite color.\n",
        "```"
      ],
      "metadata": {
        "id": "1eE1nhvx5Ftd"
      }
    },
    {
      "cell_type": "markdown",
      "metadata": {
        "id": "JD9btduf5Fte"
      },
      "source": [
        "**AnswerQ11:** Your answer here (double click to edit)"
      ]
    },
    {
      "cell_type": "code",
      "execution_count": null,
      "metadata": {
        "id": "mvFbFUc85Ftf"
      },
      "outputs": [],
      "source": [
        "# your codes here (double click to edit)"
      ]
    },
    {
      "cell_type": "markdown",
      "source": [
        "### **Q12: Write a program that lets the user play a guessing game.**\n",
        "**- First, your program should set a number as the \"correct answer\"**\n",
        "**- Then, your program will ask the user to guess a number**\n",
        "**- Your program should give a message indicating whether the user's guess is correct, too high, or too low**\n",
        "\n",
        "**This program will use a combination of the `input()` function, comparison operators, and `if-then-else` logic. Answer to this question includes program + comments that document process and explain your code.**\n",
        "\n",
        "Sample output for this program (for a correct answer of 7:\n",
        "```\n",
        "You guessed 13.\n",
        "\n",
        "This guess is too high.\n",
        "\n",
        "Better luck next time!\n",
        "```"
      ],
      "metadata": {
        "id": "PKBGg1dI5HMg"
      }
    },
    {
      "cell_type": "markdown",
      "metadata": {
        "id": "FGqN7Njj5HMj"
      },
      "source": [
        "**AnswerQ12:** Your answer here (double click to edit)"
      ]
    },
    {
      "cell_type": "code",
      "execution_count": null,
      "metadata": {
        "id": "bmG50c8VeI5E"
      },
      "outputs": [],
      "source": [
        "# your codes here (double click to edit)"
      ]
    },
    {
      "cell_type": "markdown",
      "source": [
        "### **Q13: How would you modify the following program to print or output the string nine (9) times and also include line numbers as part of the output? Answer to this question includes program + comments that document process and explain your code.**\n",
        "\n",
        "For example, your output might look like the following:\n",
        "\n",
        "```\n",
        "1 Python\n",
        "2 Python\n",
        "3 Python\n",
        "4 Python\n",
        "5 Python\n",
        "6 Python\n",
        "7 Python\n",
        "8 Python\n",
        "9 Python\n",
        "IS FUN!\n",
        "```\n"
      ],
      "metadata": {
        "id": "ZUcnDs_a5P6y"
      }
    },
    {
      "cell_type": "markdown",
      "metadata": {
        "id": "0LflRfCs5P7D"
      },
      "source": [
        "**AnswerQ13**: Your answer here (double click to edit)"
      ]
    },
    {
      "cell_type": "code",
      "source": [
        "# your codes here (double click to edit)\n",
        "\n",
        "# program you're modifying for Q13\n",
        "# assign count variable\n",
        "count = 1\n",
        "\n",
        "# while loop\n",
        "while count <= 5: # initial condition\n",
        "   print (\"Python\") # print statement\n",
        "   count = count + 1 # reassign count\n",
        "\n",
        "# final print statement\n",
        "print (\"Done\")"
      ],
      "metadata": {
        "id": "AqAFZs_45P7F"
      },
      "execution_count": null,
      "outputs": []
    },
    {
      "cell_type": "markdown",
      "source": [
        "### **Q2: Let's return to the program we modified for Q13. How would you modify your Q13 answer to use a `for` loop instead of a `while` loop? Answer to this question includes program + comments that document process and explain your code.**\n",
        "\n",
        "As a reminder, your output might look like the following:\n",
        "\n",
        "```\n",
        "1 Python\n",
        "2 Python\n",
        "3 Python\n",
        "4 Python\n",
        "5 Python\n",
        "6 Python\n",
        "7 Python\n",
        "8 Python\n",
        "9 Python\n",
        "IS FUN!\n",
        "```"
      ],
      "metadata": {
        "id": "WH2u6CJm5RUp"
      }
    },
    {
      "cell_type": "markdown",
      "metadata": {
        "id": "tcF7KmPu5RUv"
      },
      "source": [
        "**AnswerQ14**: Your answer here (double click to edit)"
      ]
    },
    {
      "cell_type": "code",
      "source": [
        "# your codes here (double click to edit)\n",
        "\n",
        "# program you're modifying for Q14\n",
        "# assign count variable\n",
        "count = 1\n",
        "\n",
        "# while loop\n",
        "while count <= 5: # initial condition\n",
        "   print (\"Python\") # print statement\n",
        "   count = count + 1 # reassign count\n",
        "\n",
        "# final print statement\n",
        "print (\"Done\")"
      ],
      "metadata": {
        "id": "rSrwk5JG5RUv"
      },
      "execution_count": null,
      "outputs": []
    },
    {
      "cell_type": "markdown",
      "source": [
        "### **Q15: In a previous lab, you were asked to modify the program below to search for the characters `q` and `u` in the string `turquoise`. Write a program that uses a `for` loop to return all instances of `q` and `u` in the string, not just the first occurrence. Answer to this question includes program + comments that document process and explain your code.**"
      ],
      "metadata": {
        "id": "NEGKiVEe5Sv-"
      }
    },
    {
      "cell_type": "markdown",
      "metadata": {
        "id": "DHgBhSeK5SwA"
      },
      "source": [
        "**AnswerQ15:** Your answer here (double click to edit)"
      ]
    },
    {
      "cell_type": "code",
      "source": [
        "# your codes here (double click to edit)\n",
        "\n",
        "# program you're modifying for Q15\n",
        "# assign string variable\n",
        "color = \"turquoise\"\n",
        "\n",
        "# get index number of t character\n",
        "index_number = color.index(\"t\")\n",
        "\n",
        "# show index number as part of print statement\n",
        "print (\"The index number for the letter t within the word \" + color + \" is \" + index_number)\n",
        "```"
      ],
      "metadata": {
        "id": "ioCC7eU25SwC"
      },
      "execution_count": null,
      "outputs": []
    },
    {
      "cell_type": "markdown",
      "source": [
        "### **Q16: Write a program that counts from 10 down to 1, and then prints \"Blastoff!\" Answer to this question includes programs with a `while` loop and a `for` loop + comments that document process and explain your code.**\n",
        "\n",
        "Your output should similar to the following:\n",
        "```\n",
        "10\n",
        "9\n",
        "8\n",
        "7\n",
        "6\n",
        "5\n",
        "4\n",
        "3\n",
        "2\n",
        "1\n",
        "Blastoff!\n",
        "```"
      ],
      "metadata": {
        "id": "XD9Uhw-kJee9"
      }
    },
    {
      "cell_type": "markdown",
      "metadata": {
        "id": "YlLeOQtJJgLq"
      },
      "source": [
        "**AnswerQ16:** Your answer here (double click to edit)"
      ]
    },
    {
      "cell_type": "code",
      "execution_count": null,
      "metadata": {
        "id": "LYUcJy0sOABn"
      },
      "outputs": [],
      "source": [
        "# for loop program, your codes here (double click to edit)"
      ]
    },
    {
      "cell_type": "code",
      "execution_count": null,
      "metadata": {
        "id": "9IoGK6CdJhz6"
      },
      "outputs": [],
      "source": [
        "# while loop program, your codes here (double click to edit)"
      ]
    },
    {
      "cell_type": "markdown",
      "source": [
        "### **Q17: Write a program that asks the user to enter three numbers: a starting value, an ending value, and an increment. Your program should then \"count\" based on these criteria, as shown in the sample output below. Answer to this question includes programs with a `while` loop and a `for` loop + comments that document process and explain your code.**\n",
        "\n",
        "```\n",
        "This program counts for you.\n",
        "Enter the starting value: 3\n",
        "Enter the ending value: 13\n",
        "Enter the increment: 2\n",
        "3\n",
        "5\n",
        "7\n",
        "9\n",
        "11\n",
        "13\n",
        "```"
      ],
      "metadata": {
        "id": "VgywUA6SJfMR"
      }
    },
    {
      "cell_type": "markdown",
      "metadata": {
        "id": "4Mxe0-d8Jgii"
      },
      "source": [
        "**AnswerQ17:** Your answer here (double click to edit)"
      ]
    },
    {
      "cell_type": "code",
      "execution_count": null,
      "metadata": {
        "id": "hUJUjOuGOAZ0"
      },
      "outputs": [],
      "source": [
        "# for loop program, your codes here (double click to edit)"
      ]
    },
    {
      "cell_type": "code",
      "execution_count": null,
      "metadata": {
        "id": "BaeQ2u0jJiK_"
      },
      "outputs": [],
      "source": [
        "# while loop program, your codes here (double click to edit) edit)"
      ]
    },
    {
      "cell_type": "markdown",
      "source": [
        "### **Q18: Write a program that prints the numbers 1 through 10, except that between 7 and 8 it should print the word \"happy.\" Answer to this question includes programs with a `while` loop and a `for` loop + comments that document process and explain your code.**\n",
        "\n",
        "Sample output for this program:\n",
        "```\n",
        "1\n",
        "2\n",
        "3\n",
        "4\n",
        "5\n",
        "6\n",
        "7\n",
        "happy\n",
        "8\n",
        "9\n",
        "10\n",
        "```\n",
        "\n",
        "HINT: How could an `if` statement be helpful to achieve this output?"
      ],
      "metadata": {
        "id": "lJMYtl39JfSi"
      }
    },
    {
      "cell_type": "markdown",
      "metadata": {
        "id": "cQDZpa9VJg0u"
      },
      "source": [
        "**AnswerQ18:** Your answer here (double click to edit)"
      ]
    },
    {
      "cell_type": "code",
      "execution_count": null,
      "metadata": {
        "id": "_CZes6uJOA5P"
      },
      "outputs": [],
      "source": [
        "# for loop program, your codes here (double click to edit)"
      ]
    },
    {
      "cell_type": "code",
      "execution_count": null,
      "metadata": {
        "id": "Y2z1v2pJJid6"
      },
      "outputs": [],
      "source": [
        "# your codes here (double click to edit)"
      ]
    },
    {
      "cell_type": "markdown",
      "source": [
        "# Part III Lab Notebook Questions"
      ],
      "metadata": {
        "id": "tSLWa7hO5LzL"
      }
    },
    {
      "cell_type": "markdown",
      "source": [
        "### **Q19A: Describe how you would start building out a program to accomplish this task (print a string a specific number of times)? What functions, statements, or keywords would you need to use? How would you start to organize this program?**\n",
        "\n",
        "**Q19B: See where you can get with writing this program. What parts of the program were you able to get working? Where did you run into challenges? Answer to this question includes program + comments that document process and explain your code.**\n",
        "\n",
        "**Q19C: How does the sample program compare to your approach? What was similar? What was different? How are you thinking differently (if at all) about how to approach this type of program?**\n"
      ],
      "metadata": {
        "id": "wr-wOAmj5f5u"
      }
    },
    {
      "cell_type": "markdown",
      "metadata": {
        "id": "RVp54Ucu5f51"
      },
      "source": [
        "**AnswerQ19**: Your answer here (double click to edit)"
      ]
    },
    {
      "cell_type": "code",
      "source": [
        "# your codes here (double click to edit)"
      ],
      "metadata": {
        "id": "hRvjMvs-5f53"
      },
      "execution_count": null,
      "outputs": []
    },
    {
      "cell_type": "markdown",
      "source": [
        "### **Q20A: Modify the program you built for the previous section of the lab to take specific values as inputs (rather than get inputs as part of the function). Answer to this question includes program + comments that document process and explain your code.**\n",
        "\n",
        "**Q20B: Then, create a named function and function call for this program. Answer to this question includes program + comments that document process and explain your code.**\n",
        "\n",
        "**Q20C: What parts of the program were you able to get working? Where did you run into challenges?**"
      ],
      "metadata": {
        "id": "Njj78pK55g6z"
      }
    },
    {
      "cell_type": "markdown",
      "metadata": {
        "id": "FHrWNX9T5g7E"
      },
      "source": [
        "**AnswerQ20**: Your answer here (double click to edit)"
      ]
    },
    {
      "cell_type": "code",
      "source": [
        "# your codes here (double click to edit)"
      ],
      "metadata": {
        "id": "ppe4Lu7l5g7H"
      },
      "execution_count": null,
      "outputs": []
    },
    {
      "cell_type": "markdown",
      "source": [
        "### **Q21: Write a function is_even that determines whether or not a number n is even. Include the function definition as well as a sample function call. Answer to this question includes program + comments that document process and explain your code.**"
      ],
      "metadata": {
        "id": "URiYQ3s55icu"
      }
    },
    {
      "cell_type": "markdown",
      "metadata": {
        "id": "Vrj2zc5F5ic2"
      },
      "source": [
        "**AnswerQ21:** Your answer here (double click to edit)"
      ]
    },
    {
      "cell_type": "code",
      "source": [
        "# your codes here (double click to edit)"
      ],
      "metadata": {
        "id": "Ru2qf_dX5ic4"
      },
      "execution_count": null,
      "outputs": []
    },
    {
      "cell_type": "markdown",
      "source": [
        "### **Q22: Write a function average that determines the average value of a list. Include the function definition as well as a sample function call. Answer to this question includes program + comments that document process and explain your code.**"
      ],
      "metadata": {
        "id": "ckc-P3J95juN"
      }
    },
    {
      "cell_type": "markdown",
      "metadata": {
        "id": "C1kcyZvs5juO"
      },
      "source": [
        "**AnswerQ23:** Your answer here (double click to edit)"
      ]
    },
    {
      "cell_type": "code",
      "execution_count": null,
      "metadata": {
        "id": "64LkMud_5juP"
      },
      "outputs": [],
      "source": [
        "# your codes here (double click to edit)"
      ]
    },
    {
      "cell_type": "markdown",
      "source": [
        "### **Q24: Write a function uniq that takes a list and returns a new list containing only unique values. Include the function definition as well as a sample function call. Answer to this question includes program + comments that document process and explain your code.**"
      ],
      "metadata": {
        "id": "73e1es_f5lJZ"
      }
    },
    {
      "cell_type": "markdown",
      "metadata": {
        "id": "7B0y4xZO5lJd"
      },
      "source": [
        "**AnswerQ24:** Your answer here (double click to edit)"
      ]
    },
    {
      "cell_type": "code",
      "execution_count": null,
      "metadata": {
        "id": "Qeny9FEG5lJf"
      },
      "outputs": [],
      "source": [
        "# your codes here (double click to edit)"
      ]
    }
  ]
}