{
  "nbformat": 4,
  "nbformat_minor": 0,
  "metadata": {
    "colab": {
      "provenance": [],
      "toc_visible": true,
      "authorship_tag": "ABX9TyMchvaFo+CmLHn+Wnq3n4p+",
      "include_colab_link": true
    },
    "kernelspec": {
      "name": "python3",
      "display_name": "Python 3"
    },
    "language_info": {
      "name": "python"
    }
  },
  "cells": [
    {
      "cell_type": "markdown",
      "metadata": {
        "id": "view-in-github",
        "colab_type": "text"
      },
      "source": [
        "<a href=\"https://colab.research.google.com/github/kwaldenphd/python-next-steps/blob/main/python_next_steps_part_iii_lab_procedure.ipynb\" target=\"_parent\"><img src=\"https://colab.research.google.com/assets/colab-badge.svg\" alt=\"Open In Colab\"/></a>"
      ]
    },
    {
      "cell_type": "markdown",
      "source": [
        "# Functions in Python\n",
        "\n",
        "<a href=\"http://creativecommons.org/licenses/by-nc/4.0/\" rel=\"license\"><img style=\"border-width: 0;\" src=\"https://i.creativecommons.org/l/by-nc/4.0/88x31.png\" alt=\"Creative Commons License\" /></a>This tutorial was written by Katherine Walden and is licensed under a <a href=\"http://creativecommons.org/licenses/by-nc/4.0/\" rel=\"license\">Creative Commons Attribution-NonCommercial 4.0 International License</a>.\n",
        "\n",
        "\n"
      ],
      "metadata": {
        "id": "0Wtd31XrcfQh"
      }
    },
    {
      "cell_type": "markdown",
      "source": [
        "## Key Concepts\n",
        "\n",
        "[Click here](https://github.com/kwaldenphd/python-next-steps/blob/main/part-iii-key-concepts.md) for a full list of key concepts and definitions from this lab."
      ],
      "metadata": {
        "id": "eplB1yETLnz0"
      }
    },
    {
      "cell_type": "markdown",
      "source": [
        "# Overview\n",
        "\n",
        "From Busbee and Braunschweig's \"[Structured Programming](https://press.rebus.community/programmingfundamentals/chapter/structured-programming/),\" in *Programming Fundamentals*:\n",
        "    \n",
        "\"One of the most important concepts of programming is the ability to control a program so that different lines of code are executed or that some lines of code are executed many times. The mechanisms that allow us to control the flow of execution are called control structures. Flowcharting is a method of documenting (charting) the flow (or paths) that a program would execute. There are three main categories of control structures:\"\n",
        "  * Sequence [executes in given sequence]\n",
        "  * Selection [selects between two or more flows using condition or question]\n",
        "  * Iteration [repeats same piece of code multiple times]\n",
        "  \n",
        "We're going to spend multiple labs thinking through control structures and control flow, with a focus on how we use them in Python.\n",
        "    \n",
        "Examples of control structures in Python include:\n",
        "- `if-then-else` (syntax: `if`, `else`, `elif`)\n",
        "- `while` statements (syntax: `while`)"
      ],
      "metadata": {
        "id": "mi68i-7FLsGN"
      }
    },
    {
      "cell_type": "markdown",
      "source": [
        "## Modular Programming & Functions\n",
        "\n",
        "We've also previously been introduced to the concept of **code blocks**. From Busbee and Braunschweig's \"[Code Blocks](https://press.rebus.community/programmingfundamentals/chapter/code-blocks/)\" from *Programming Fundamentals*:\n",
        "- \"A code block, sometimes referred to as a compound statement, is a lexical structure of source code which is grouped together. Blocks consist of one or more declarations and statements. A programming language that permits the creation of blocks, including blocks nested within other blocks, is called a block-structured programming language. Blocks are fundamental to structured programming, where control structures are formed from blocks.\"\n",
        "   \n",
        "Approaching a program as a series of components that each accomplish tasks that are part of the larger workflow gets us to a new concept: **modularity** or **modular programming**\n",
        "\n",
        "From Busbee and Braunschweig's \"[Modular Programming](https://press.rebus.community/programmingfundamentals/chapter/modular-programming/),\" in *Programming Fundamentals*:\n",
        "- \"Modular programming is a software design technique that emphasizes separating the functionality of a program into independent, interchangeable modules, such that each contains everything necessary to execute only one aspect of the desired functionality.\"\n",
        "\n",
        "Code blocks are one way to think about these discrete parts of a program. A more precise term used in programming languages is **function.** \"Functions are important because they allow us to take large complicated programs and to divide them into smaller manageable pieces. Because the function is a smaller piece of the overall program, we can concentrate on what we want it to do and test it to make sure it works properly\" (Busbee and Braunschweig, [Modular Programming](https://press.rebus.community/programmingfundamentals/chapter/modular-programming/)).\n"
      ],
      "metadata": {
        "id": "B0AcrudCLtUn"
      }
    },
    {
      "cell_type": "markdown",
      "source": [
        "# Functions in Python\n",
        "\n",
        "In Python, a function is a named sequence of statements that performs a computation.\n",
        "- Key term: *function*\n",
        "\n",
        "To execute a function, we call it by name and pass it an appropriate set of input arguments. A function takes zero or more arguments as inputs and returns zero or more outputs as a result. The output or result of a function is called the return value.\n",
        "- Key terms: *function call*, *input argument*, *function output* or *return value*\n",
        "\n",
        "Data, parameters, or arguments can be passed into a function. Functions can also return data."
      ],
      "metadata": {
        "id": "2TS6rhsqLuXJ"
      }
    },
    {
      "cell_type": "markdown",
      "source": [
        "## Built-In Functions\n",
        "\n",
        "We have actually already been working with a number of Python's built-in functions. These include `print()`, `dict()`, `input()`, `int()`, and `len()`.\n",
        "\n",
        "We call built-in functions using the function name, followed by parenthesis.\n",
        "- `print()`\n",
        "- `dict()`\n",
        "- `input()`\n",
        "- `int()`\n",
        "- `len()`\n",
        "\n",
        "When we call one of these built-in functions, Python accesses and then executes the funtion's source code stored elsewhere in the Python environment.\n",
        "- For example, you can see the source code for the `print()` function, contained in [bltinmodule.c](https://github.com/python/cpython/blob/main/Python/bltinmodule.c#L1972) file in Python's [source code](https://github.com/python/cpython/blob/).\n",
        "\n",
        "Using `print()` as an example:\n",
        "- The function definition is contained elsewhere in Python's source code\n",
        "- We call the function using its name `print()`\n",
        "- We pass some kind of input to the function (i.e. `print(\"Hello world\")`)\n",
        "- Some functions have an output or return value"
      ],
      "metadata": {
        "id": "yG7i4qT-LviI"
      }
    },
    {
      "cell_type": "markdown",
      "source": [
        "### Comprehension Check\n",
        "\n",
        "<table>\n",
        " <tr><td>\n",
        "<img src=\"https://github.com/kwaldenphd/internet/blob/main/images/clipboard.png?raw=true\" alt=\"Clipboard icon\" width=\"50\"/></td>\n",
        "  <td><a href=\"https://docs.google.com/forms/d/e/1FAIpQLSc6SKZMpaS62tTYi6_gVNnpXNKtpWsFwAMKxCsRoJywyPqERg/viewform?usp=sf_link\">Built-in Functions in Python Comprehension Check</a></td>\n",
        "  </tr>\n",
        "  </table>"
      ],
      "metadata": {
        "id": "3MfMQIeDLxWa"
      }
    },
    {
      "cell_type": "markdown",
      "source": [
        "## Named Functions\n",
        "\n",
        "But Python also lets us to create (and name) our own functions.\n",
        "- Key term: *named function(s)*\n",
        "\n",
        "We can define or name a function using the `def` keyword. A function definition includes a few core components:\n",
        "- The name of the new function\n",
        "- The list of function arguments\n",
        "- The sequence of statements to execute when the function is called\n",
        "\n",
        "The core syntax for defining your own function:\n",
        "\n",
        "```Python\n",
        "# use def keyword to define function name\n",
        "def function_name(argument):\n",
        " statement(s)\n",
        " return result\n",
        "```\n",
        "\n",
        "Let's unpack each of those components.\n",
        "- `def function_name()` is the name you are giving to the function you create- this is the header for the function definition.\n",
        "  * Function names have many of the same rules as variable names- no spaces or special characters.\n",
        "- `argument` is the argument that will be passed to the function.\n",
        "  * When we are initially defining the function, the `argument` value is typically a placeholder.\n",
        "  * Later in the program when we call the named function, the argument being passed to the function goes in these parenthesis.\n",
        "- The nested or indented line `statement(s)` is the body of the function definition. It includes a sequence of statements to execute when the function is called.\n",
        "- The nested or indented line `return result` is a placeholder for the function output or endpoint- it is also part of the body of the function definition."
      ],
      "metadata": {
        "id": "C9KsgGJ8L0Y-"
      }
    },
    {
      "cell_type": "markdown",
      "source": [
        "### How Named Functions Work\n",
        "\n",
        "So what happens when we use the `def` keyword to create a named function?\n",
        "\n",
        "Programs are always executed sequentially, one statement at a time. Function definitions create new functions, but do not execute the bodies or statements within the functions UNTIL the functions are called.\n",
        "\n",
        "When we call a named function, the program jumps to the definition for the function being called, executes the function's body, and then returns to the point in the program where the function was called and resumes executing the program.\n",
        "\n",
        "As mentioned earlier, functions are an example of a control structure. Let's look at some examples.\n"
      ],
      "metadata": {
        "id": "FPQvW5AWL1eD"
      }
    },
    {
      "cell_type": "markdown",
      "source": [
        "### Python Example A\n",
        "\n",
        "Let's look at a Python example. In a previous lab, we wrote a program that took a temperature in Fahrenheit and converted it to Celsius.\n",
        "\n",
        "What that program might have looked like:"
      ],
      "metadata": {
        "id": "mjYf4us8L2mm"
      }
    },
    {
      "cell_type": "code",
      "source": [
        "# input temp\n",
        "f = float(input(\"Enter a temperature in Fahrenheit: \"))\n",
        "\n",
        "# convert to celsius\n",
        "c = (f -32) * 5/9\n",
        "\n",
        "# show output\n",
        "print(f\"{f} degrees Fahrenheit is equal to {c} degrees celsius\")"
      ],
      "metadata": {
        "id": "i7uezX9zL3he"
      },
      "execution_count": null,
      "outputs": []
    },
    {
      "cell_type": "markdown",
      "source": [
        "<blockquote>For more on <code>f strings</code> in Python: https://realpython.com/python-f-strings/</blockquote>\n",
        "\n",
        "This isn't a terribly long program to write out, but if we need to perform this conversion regularly, we might want to just write it out once and be able use that working code elsewhere in our program.\n",
        "\n",
        "We can rewrite this program as a function that we can access elsewhere in our program.\n"
      ],
      "metadata": {
        "id": "Sbj69PEsL42N"
      }
    },
    {
      "cell_type": "code",
      "source": [
        "# define function\n",
        "def tempConvert():\n",
        "  fahrenheit = float(input(\"Enter a temperature in Fahrenheit: \")) # get temperature\n",
        "  celsius = (fahrenheit -32) * 5/9 # convert to celsius\n",
        "  print(f\"{fahrenheit} degrees Fahrenheit is equal to {celsius} degrees celsius\") # show output"
      ],
      "metadata": {
        "id": "LMNL4hZhL6c5"
      },
      "execution_count": null,
      "outputs": []
    },
    {
      "cell_type": "markdown",
      "source": [
        "Then, elsewhere in our program, we could call that function using its name."
      ],
      "metadata": {
        "id": "AlKrl9LLL8I0"
      }
    },
    {
      "cell_type": "code",
      "source": [
        "# sample function call\n",
        "tempConvert(32)"
      ],
      "metadata": {
        "id": "JbIfd4xLL85h"
      },
      "execution_count": null,
      "outputs": []
    },
    {
      "cell_type": "markdown",
      "source": [
        "In this example, we passed the value `32` to the `tempConvert` function we created.\n",
        "\n",
        "### Python Example B\n",
        "\n",
        "But we could break down this program further, thinking about the underlying steps:\n",
        "- Get user input for Fahrenheit temperature\n",
        "- Convert to celsius\n",
        "- Show output\n",
        "\n",
        "We could create modular pieces for each of these tasks."
      ],
      "metadata": {
        "id": "cuuFMlFUL9zG"
      }
    },
    {
      "cell_type": "code",
      "source": [
        "# function for getting input\n",
        "def getFahrenheit():\n",
        "  fahrenheit = float(input(\"Enter a temperature in Fahrenheit: \"))\n",
        "  return fahrenheit"
      ],
      "metadata": {
        "id": "yb5mRH0IL-c_"
      },
      "execution_count": null,
      "outputs": []
    },
    {
      "cell_type": "code",
      "source": [
        "# function for converting to Celsius\n",
        "def convertTemp(fahrenheit):\n",
        "  celsius = (fahrenheit -32) * 5/9\n",
        "  return celsius"
      ],
      "metadata": {
        "id": "SqF0e5ZxL_SA"
      },
      "execution_count": null,
      "outputs": []
    },
    {
      "cell_type": "code",
      "source": [
        "# function for returning output\n",
        "def result(fahrenheit, celsius):\n",
        "  print(f\"{fahrenheit} degrees Fahrenheit is equal to {celsius} degrees celsius\")"
      ],
      "metadata": {
        "id": "7rrzblhxMAVU"
      },
      "execution_count": null,
      "outputs": []
    },
    {
      "cell_type": "markdown",
      "source": [
        "And we could create a combined function from each of those three individual functions."
      ],
      "metadata": {
        "id": "Cgp9Bk7GMA_2"
      }
    },
    {
      "cell_type": "code",
      "source": [
        "# combined function\n",
        "def combined():\n",
        "  fahrenheit = getFahrenheit()\n",
        "  celsius = convertTemp(fahrenheit)\n",
        "  result(fahrenheit, celsius)"
      ],
      "metadata": {
        "id": "SAhULpePMB7M"
      },
      "execution_count": null,
      "outputs": []
    },
    {
      "cell_type": "markdown",
      "source": [
        "To run our entire temperature conversion program, we would just need to call the `combined()` function using its name."
      ],
      "metadata": {
        "id": "eHWAm1tfMCqH"
      }
    },
    {
      "cell_type": "code",
      "source": [
        "# combined temperature conversion program function call\n",
        "combined()"
      ],
      "metadata": {
        "id": "uqFXJ5vbMDXP"
      },
      "execution_count": null,
      "outputs": []
    },
    {
      "cell_type": "markdown",
      "source": [
        "We'll dig into what's happening here in more detail later in this lab. To summarize, we created a function for each piece of our conversion program (`getFahrenheit`, `convertTemp`, `result`), and then created a `main` function that combined those three steps.\n",
        "\n",
        "Putting that all together:"
      ],
      "metadata": {
        "id": "NYKQmTqBMEIO"
      }
    },
    {
      "cell_type": "code",
      "source": [
        "```Python\n",
        "# function for getting input\n",
        "def getFahrenheit():\n",
        "  fahrenheit = float(input(\"Enter a temperature in Fahrenheit: \"))\n",
        "  return fahrenheit\n",
        "\n",
        "# function for converting to Celsius\n",
        "def convertTemp(fahrenheit):\n",
        "  celsius = (fahrenheit -32) * 5/9\n",
        "  return celsius\n",
        "\n",
        "# function for returning output\n",
        "def result(fahrenheit, celsius):\n",
        "  print(f\"{fahrenheit} degrees Fahrenheit is equal to {celsius} degrees celsius\")\n",
        "\n",
        "# combined function\n",
        "def combined():\n",
        "  fahrenheit = getFahrenheit()\n",
        "  celsius = convertTemp(fahrenheit)\n",
        "  result(fahrenheit, celsius)\n",
        "\n",
        "# combined temperature conversion program function call\n",
        "combined()"
      ],
      "metadata": {
        "id": "re04a14HMFI3"
      },
      "execution_count": null,
      "outputs": []
    },
    {
      "cell_type": "markdown",
      "source": [
        "### Python Example C\n",
        "\n",
        "Let's say we want to create a function that prints an input string three times. Breaking down the steps of that program:\n",
        "- Get input string\n",
        "- Print the string (3x)\n",
        "\n",
        "We might also need some way of tracking how many times we've printed the string so it stops at three.\n",
        "\n",
        "One way we could approach this would be using a `count` variable and a `while` statement.\n"
      ],
      "metadata": {
        "id": "HrBkuoKWMGCe"
      }
    },
    {
      "cell_type": "code",
      "source": [
        "# assign count to 0\n",
        "count = 0\n",
        "\n",
        "# get input string\n",
        "message = input(\"Type your message here: \")\n",
        "\n",
        "# while statement\n",
        "while count < 3:\n",
        "    print(message) # print message\n",
        "    count += 1 # reassign count"
      ],
      "metadata": {
        "id": "DVkHGOCyMG0n"
      },
      "execution_count": null,
      "outputs": []
    },
    {
      "cell_type": "markdown",
      "source": [
        "Thinking through how this program runs:\n",
        "- `count` starts at `0` and increases by an increment of `1` each time the code nested under `while` runs\n",
        "- The code nested under `while` will keep running until the initial condition (`count < 3`) is no longer true\n",
        "\n",
        "We can test this program to make sure the output is what we expect. How that we have a program that prints an input string three times, we can create the named function.\n",
        "\n",
        "```Python\n",
        "# function definition\n",
        "def printThreeTimes(string):\n",
        "```\n",
        "\n",
        "Then under the `def` keyword will go the lines of code that execute our program."
      ],
      "metadata": {
        "id": "F0tnnmxlMHyU"
      }
    },
    {
      "cell_type": "code",
      "source": [
        "# function definition\n",
        "def printThreeTimes():\n",
        "    count = 0 # assign count\n",
        "    message = input(\"Type your message here: \") # get input message\n",
        "    while count < 3: # while statement\n",
        "        print(message) # print message\n",
        "        count += 1 # reassign count"
      ],
      "metadata": {
        "id": "ihLl9igAMKDF"
      },
      "execution_count": null,
      "outputs": []
    },
    {
      "cell_type": "markdown",
      "source": [
        "Now when we run this block of code, there won't be any output because we are just creating or defining the `printThreeTimes` function. When we need to use the function, we can call it using its name."
      ],
      "metadata": {
        "id": "nNYG23kKMOMC"
      }
    },
    {
      "cell_type": "code",
      "source": [
        "# sample function call\n",
        "printThreeTimes()"
      ],
      "metadata": {
        "id": "jB8msfcDMPDG"
      },
      "execution_count": null,
      "outputs": []
    },
    {
      "cell_type": "markdown",
      "source": [
        "Putting that all together:"
      ],
      "metadata": {
        "id": "lFIFtVx7MPui"
      }
    },
    {
      "cell_type": "code",
      "source": [
        "# function definition\n",
        "def printThreeTimes():\n",
        "    count = 0 # assign count\n",
        "    message = input(\"Type your message here: \") # get input message\n",
        "    while count < 3: # while statement\n",
        "        print(message) # print message\n",
        "        count += 1 # reassign count\n",
        "\n",
        "# function call\n",
        "printThreeTimes()"
      ],
      "metadata": {
        "id": "jgz7KDAsMQm6"
      },
      "execution_count": null,
      "outputs": []
    },
    {
      "cell_type": "markdown",
      "source": [
        "But let's say we don't want to use an `input()` statement as part of the function- what if we wanted to pass a specific value to the function?\n",
        "\n",
        "First, let's build a program that accomplishes this task."
      ],
      "metadata": {
        "id": "cLWmHiE9MRdV"
      }
    },
    {
      "cell_type": "code",
      "source": [
        "# assign string\n",
        "message = \"There's no place like home\"\n",
        "\n",
        "# assign count\n",
        "count = 0\n",
        "\n",
        "# while statement\n",
        "while count < 3:\n",
        "    print(message) # print message\n",
        "    count += 1 # reassign count"
      ],
      "metadata": {
        "id": "k3c5ObryMSVQ"
      },
      "execution_count": null,
      "outputs": []
    },
    {
      "cell_type": "markdown",
      "source": [
        "To create the function:"
      ],
      "metadata": {
        "id": "r-XxOizsMS4f"
      }
    },
    {
      "cell_type": "code",
      "source": [
        "def printThreeTimes(message):\n",
        "    count = 0 # assign count\n",
        "    while count < 3: # while statement\n",
        "        print(message) # print message\n",
        "        count += 1 # reassign count"
      ],
      "metadata": {
        "id": "uboVFUl_MTnY"
      },
      "execution_count": null,
      "outputs": []
    },
    {
      "cell_type": "markdown",
      "source": [
        "Remember in this scenario, we are going to pass a specific value to the function, rather than asking for an input as part of the function.\n",
        "\n",
        "So how would we call our modified `printThreeTimes` function? We would pass a string object to the function."
      ],
      "metadata": {
        "id": "MIL-m_5yMUOD"
      }
    },
    {
      "cell_type": "code",
      "source": [
        "# assign string\n",
        "message = \"There's no place like home\"\n",
        "\n",
        "# function definition\n",
        "def printThreeTimes(message):\n",
        "    count = 0 # assign count\n",
        "    while count < 3: # while statement\n",
        "        print(message) # print message\n",
        "        count += 1 # reassign count\n",
        "\n",
        "# function call\n",
        "printThreeTimes(message)"
      ],
      "metadata": {
        "id": "H5iQKrLTMVNb"
      },
      "execution_count": null,
      "outputs": []
    },
    {
      "cell_type": "markdown",
      "source": [
        "### Parameters & Scoping\n",
        "\n",
        "This modified example introduces a couple of key concepts for working with functions:\n",
        "- Inside a function, the arguments are assigned to local variables, or placeholder variables. These local variables are called parameters.\n",
        "  * Key term: *parameter*\n",
        "- The name of the parameter inside the function is separated or isolated from the name outside the function. This separation of namespaces is called scoping.\n",
        "  * Key term: *scoping*\n",
        "\n",
        "An example of scoping:"
      ],
      "metadata": {
        "id": "cDWE7wwXMXVK"
      }
    },
    {
      "cell_type": "code",
      "source": [
        "# assign x variable\n",
        "x = 1\n",
        "\n",
        "# function definition\n",
        "def print_number(x):\n",
        " print(x)\n",
        "\n",
        "# print x variable\n",
        "print(x)\n",
        "\n",
        "# call named function\n",
        "print_number(2)"
      ],
      "metadata": {
        "id": "uq8zahpSMYZM"
      },
      "execution_count": null,
      "outputs": []
    },
    {
      "cell_type": "markdown",
      "source": [
        "The value of `x` in the first line of this program has nothing to do with the purpose `x` is serving in the function definition.\n",
        "\n",
        "In short, the placeholder variables (or parameters) we use inside the function definition are separated or isolated from any instance where a variable or parameter with the same name is used outside the function definition.\n",
        "\n",
        "<blockquote><a href=\"https://www.w3schools.com/python/python_scope.asp\">Click here</a> to learn more about scope in Python, via W3Schools.</blockquote>\n",
        "\n",
        "#### Comprehension Check\n",
        "\n",
        "<table>\n",
        " <tr><td>\n",
        "<img src=\"https://github.com/kwaldenphd/internet/blob/main/images/clipboard.png?raw=true\" alt=\"Clipboard icon\" width=\"50\"/></td>\n",
        "  <td><a href=\"https://docs.google.com/forms/d/e/1FAIpQLSdCocH8cRcDgnc4WTiEQESxPKzKv8IpvhCc4D5CFAYb5Sim3Q/viewform?usp=sf_link\">Named Functions in Python Comprehension Check</a></td>\n",
        "  </tr>\n",
        "  </table>\n"
      ],
      "metadata": {
        "id": "5PpQ8ZX2MZp-"
      }
    },
    {
      "cell_type": "markdown",
      "source": [
        "#### Application\n",
        "\n",
        "Let's say we want to create a function that prints an input string a specific number of times.\n",
        "\n",
        "Breaking down the steps of that program:\n",
        "- Get the input string (`message`)\n",
        "- Get the number of times (`x`)\n",
        "- Print the string `x` number of times\n",
        "\n",
        "We might also need some way of tracking how many times we've printed the string so it stops at the specified number.\n",
        "\n",
        "<blockquote>Q91A: Describe how you would start building out a program to accomplish this task? What functions, statements, or keywords would you need to use? How would you start to organize this program?</blockquote>\n",
        "\n",
        "<blockquote>Q19B: See where you can get with writing this program. What parts of the program were you able to get working? Where did you run into challenges? Answer to this question includes program + comments that document process and explain your code.</blockquote>\n",
        "\n",
        "Here is one approach to this task:\n",
        "\n",
        "We can use two input statements to get `message` and `x`. And one way we could approach printing the string `x` number of times would be to use a `count` variable and a `while` statement."
      ],
      "metadata": {
        "id": "SP8J8oUEMbvX"
      }
    },
    {
      "cell_type": "code",
      "source": [
        "# input statement for string\n",
        "message = input(\"Enter your message here: \")\n",
        "\n",
        "# input statement for number of times\n",
        "x = int(input(\"How many times do you want this statement to print? Enter a number value.\"))\n",
        "\n",
        "# assign count\n",
        "count = 0\n",
        "\n",
        "# while statement\n",
        "while count < x:\n",
        "    print(message) # print message\n",
        "    count += 1 # reassign count"
      ],
      "metadata": {
        "id": "rbMTCegCMcw6"
      },
      "execution_count": null,
      "outputs": []
    },
    {
      "cell_type": "markdown",
      "source": [
        "Now to create a function using this program."
      ],
      "metadata": {
        "id": "KzLE6FfTMdXx"
      }
    },
    {
      "cell_type": "code",
      "source": [
        "# function definition\n",
        "def printNTimes():\n",
        "    message = input(\"Enter your message here: \") # input statement for string\n",
        "    x = int(input(\"How many times do you want this statement to print? Enter a number value.\")) # input statement for number of times\n",
        "    count = 0 # assign count\n",
        "    while count < x: # while statement\n",
        "        print(message) # print message\n",
        "        count += 1 # reassign count\n",
        "\n",
        "# function call\n",
        "printNTimes()"
      ],
      "metadata": {
        "id": "zj93WB3XMeGD"
      },
      "execution_count": null,
      "outputs": []
    },
    {
      "cell_type": "markdown",
      "source": [
        "<blockquote>Q19C: How does the sample program compare to your approach? What was similar? What was different? How are you thinking differently (if at all) about how to approach this type of program?</blockquote>\n",
        "\n",
        "But let's say we don't want to use an `input()` statement as part of the function- what if we wanted to pass specific values to the function?\n",
        "\n",
        "<blockquote>Q20A: Modify the program you built for the previous section of the lab to take specific values as inputs (rather than get inputs as part of the function). Answer to this question includes program + comments that document process and explain your code.</blockquote>\n",
        "\n",
        "<blockquote>Q20B: Then, create a named function and function call for this program. Answer to this question includes program + comments that document process and explain your code.</blockquote>\n",
        "\n",
        "<blockquote>Q20C: What parts of the program were you able to get working? Where did you run into challenges?</blockquote>\n",
        "\n",
        "### Docstrings\n",
        "\n",
        "We can add comments to a function definition by including a docstring under the function header.\n",
        "- Key term: *docstring*\n",
        "\n",
        "As we've learned previously, single-line comments in Python are declared using the `#` symbol, and multi-line comments in Python are declared using the <code>'''</code> symbol.\n",
        "\n",
        "Docstrings are declared using triple single quotes (<code>'''</code>) or triple double quotes (`\"\"\"`).\n",
        "- Best practice is to start the docstring just below the function header.\n",
        "- Another best practice for docstrings is to begin with a capital letter and end with a period.\n",
        "- The docstring should briefly describe what the function does.\n",
        "\n",
        "Let's see this in action with an example from earlier in the lab.\n"
      ],
      "metadata": {
        "id": "qFjMZ-5VMg0g"
      }
    },
    {
      "cell_type": "code",
      "source": [
        "# function definition\n",
        "def printThreeTimes():\n",
        " '''Prints an input string three times'''\n",
        "    count = 0 # assign count\n",
        "    message = input(\"Type your message here: \") # get input message\n",
        "    while count < 3: # while statement\n",
        "        print(message) # print message\n",
        "        count += 1 # reassign count"
      ],
      "metadata": {
        "id": "aRqDBDMuMh2M"
      },
      "execution_count": null,
      "outputs": []
    },
    {
      "cell_type": "markdown",
      "source": [
        "We have a couple options for accessing the contents of the docstring elesewhere in the program. We can use the `__doc__` method (underscore, underscore, doc, underscore, underscore)."
      ],
      "metadata": {
        "id": "WV4ss8XRMi9n"
      }
    },
    {
      "cell_type": "code",
      "source": [
        "print(\"Using __doc__:\")\n",
        "print(printThreeTimes.__doc__)"
      ],
      "metadata": {
        "id": "AqwbU5-qMjk7"
      },
      "execution_count": null,
      "outputs": []
    },
    {
      "cell_type": "markdown",
      "source": [
        "Or we can use the `help()` function."
      ],
      "metadata": {
        "id": "hYuISzXRMkNf"
      }
    },
    {
      "cell_type": "code",
      "source": [
        "print(\"Using help:\")\n",
        "help(printThreeTimes)"
      ],
      "metadata": {
        "id": "536LsBwlMkz9"
      },
      "execution_count": null,
      "outputs": []
    },
    {
      "cell_type": "markdown",
      "source": [
        "Multi-line docstrings can be used to provide additional description about the named function, including information about parameters, arguments, and returns.\n",
        "\n",
        "<blockquote><a href=\"https://www.python.org/dev/peps/pep-0257/\">Click here</a> to learn more about docstrings in Python, via Python.org documentation.</blockquote>\n",
        "\n",
        "### Fruitful Versus Void Functions\n",
        "\n",
        "Functions that yield a result are considered fruitful. To output a result, a function uses the `return` statement to pass results back to the function call.\n",
        "- Key term: *fruitful function(s)*\n",
        "\n",
        "Functions that perform a computation but do not yield a result are considered void. By default, the return value for void functions is `None`.\n",
        "- Key term: *void function(s)*"
      ],
      "metadata": {
        "id": "f6NMYcYFMmla"
      }
    },
    {
      "cell_type": "markdown",
      "source": [
        "#### Comprehension Check\n",
        "\n",
        "<table>\n",
        " <tr><td>\n",
        "<img src=\"https://github.com/kwaldenphd/internet/blob/main/images/clipboard.png?raw=true\" alt=\"Clipboard icon\" width=\"50\"/></td>\n",
        "  <td><a href=\"https://docs.google.com/forms/d/e/1FAIpQLSciArOqUPt4P8K2jhmj8ZabkM65bxCnp-jwi-L4Xzxc6MryZg/viewform?usp=sf_link\">Python Function Considerations Comprehension Check</a></td>\n",
        "  </tr>\n",
        "  </table>"
      ],
      "metadata": {
        "id": "XA53aS5yMnvw"
      }
    },
    {
      "cell_type": "markdown",
      "source": [
        "#### Application\n",
        "\n",
        "Q21: Write a function is_even that determines whether or not a number n is even. Include the function definition as well as a sample function call. Answer to this question includes program + comments that document process and explain your code.\n",
        "\n",
        "Q22: Write a function average that determines the average value of a list. Include the function definition as well as a sample function call. Answer to this question includes program + comments that document process and explain your code.\n",
        "\n",
        "Q23: Write a function uniq that takes a list and returns a new list containing only unique values. Include the function definition as well as a sample function call. Answer to this question includes program + comments that document process and explain your code.\n"
      ],
      "metadata": {
        "id": "cj8PaljLMor9"
      }
    },
    {
      "cell_type": "markdown",
      "source": [
        "# Putting It All Together: Why Functions?\n",
        "\n",
        "<p align=\"center\"><img src=\"https://github.com/kwaldenphd/python-functions/blob/main/images/hulk_antman_meme.png?raw=true\" width=\"500\"></p>\n",
        "\n",
        "Using functions to promote modular programming serves a few key purposes:\n",
        "- Yields **more concise code*** by eliminating the need to write out code for the same task multiple times\n",
        "- Improves **improve code readability**\n",
        "- Helps us **more effectively test and debug code**\n",
        "  * Because we are creating reusable pieces or building blocks of code, we can more readily pinpoint where things are going wrong or not working in our code.\n",
        "- **Promotes code reuse and modularity** by allowing us to define and call functions for common tasks\n",
        "\n",
        "This may seem overly-complicated for a relatively simple program.\n",
        "\n",
        "But imagine all kinds of more complex tasks we might want to accomplish in a programming environment- analyzing data, generating visualizations, creating textures, building interaction objects, etc. All of that becomes possible through functions- modular building blocks that can be combined to accomplish more complex tasks."
      ],
      "metadata": {
        "id": "MuuAWWy0MqOf"
      }
    },
    {
      "cell_type": "markdown",
      "source": [
        "## Code Reuse & Modularity (aka a quick detour into modules, packages, and libraries)\n",
        "\n",
        "As we move forward in Python, we're going to be encountering the terms `package`, `module`, and `library.` All of these terms refer to external Python programs that we can use in our program without having to recreate the entire original code. We can think of these resources as \"expansion packs\" for Python that expand or extend the programming language's built-in functionality.\n",
        "\n",
        "A few preliminary definitions...\n",
        "- A ***module*** is a Python file that typically includes specialized functions and variables. Modules typically have `.py` file extensions.\n",
        "- A single or simple directory of modules is called a ***package***. Packages are typically a simple directory with multiple modules.\n",
        "- A ***library*** includes blocks of code that can be reused within a program. Libraries are a collection of modules that have a much more complex directory/sub-directory/etc structure than packages\n",
        "\n",
        "Some modules, packages, and libraries are built-in to Python and require no additional installation. Others have to be installed (typically at the command line, or in the terminal) before you can import and use them in a program.\n",
        "\n",
        "Built-in functions don't require any extra steps to be able to access them in the programming environment. For example, you can see the source code for the `print()` function, contained in Python's `[bltinmodule.c](https://github.com/python/cpython/blob/main/Python/bltinmodule.c#L1972)` file in the [source code](https://github.com/python/cpython/blob/). But all we have to do is use the function name in our program.\n",
        "\n",
        "<p align=\"center\"><img src=\"https://github.com/kwaldenphd/python-functions/blob/main/images/python_package.png?raw=true\" width=\"500\"></p>\n",
        "\n",
        "In this example, we have a `game` package that includes `sound`, `image`, and `level` sub-packages. Each of those sub-packages includes specific modules. For example, the `sound` sub-package includes the `load.py`, `play.py`, and `pause.py` modules.\n",
        "\n",
        "We can bring these modules into our program using an `import` statement.\n",
        "\n",
        "For example, let's say we wanted to bring the `start.py` module from the `level` sub-package into our program.\n",
        "\n",
        "We could do this using the following `import` statement at the start of our program.\n",
        "\n",
        "```Python\n",
        "from game.level import start\n",
        "```\n",
        "\n",
        "Now, we would be able to access any of the functions (or other code) contained in the `start.py` module, because we have **imported** them into our program.\n",
        "\n",
        "For more on modules, packages, and libraries in Python:\n",
        "- Programmiz, \"[Python Package](https://www.programiz.com/python-programming/package)\n",
        "- GeeksForGeeks, \"[What is the difference between Python's Module, Package and Library?](https://www.geeksforgeeks.org/what-is-the-difference-between-pythons-module-package-and-library/)\" (30 September 2022)\n",
        "- John Sturtz, \"[Python Modules and Packages - An Introduction](https://realpython.com/python-modules-packages/)\" *Real Python*"
      ],
      "metadata": {
        "id": "3IMKP_jqMsKV"
      }
    },
    {
      "cell_type": "markdown",
      "source": [
        "### Comprehension Check\n",
        "\n",
        "<table>\n",
        " <tr><td>\n",
        "<img src=\"https://github.com/kwaldenphd/internet/blob/main/images/clipboard.png?raw=true\" alt=\"Clipboard icon\" width=\"50\"/></td>\n",
        "  <td><a href=\"https://docs.google.com/forms/d/e/1FAIpQLSctIknF2mA209zKSFH7lAA_6dBg9HoAmYDBg58QqNk37YgBVA/viewform?usp=sf_link\">Code Reuse & Modularity in Python Comprehension Check</a></td>\n",
        "  </tr>\n",
        "  </table>"
      ],
      "metadata": {
        "id": "GDmQxtsVMvKl"
      }
    },
    {
      "cell_type": "markdown",
      "source": [
        "# Lab Notebook Questions (for this section)\n",
        "\n",
        "Q19A: Describe how you would start building out a program to accomplish this task (print a string a specific number of times)? What functions, statements, or keywords would you need to use? How would you start to organize this program?\n",
        "\n",
        "Q19B: See where you can get with writing this program. What parts of the program were you able to get working? Where did you run into challenges? Answer to this question includes program + comments that document process and explain your code.\n",
        "\n",
        "Q19C: How does the sample program compare to your approach? What was similar? What was different? How are you thinking differently (if at all) about how to approach this type of program?\n",
        "\n",
        "Q20A: Modify the program you built for the previous section of the lab to take specific values as inputs (rather than get inputs as part of the function). Answer to this question includes program + comments that document process and explain your code.\n",
        "\n",
        "Q20B: Then, create a named function and function call for this program. Answer to this question includes program + comments that document process and explain your code.\n",
        "\n",
        "Q20C: What parts of the program were you able to get working? Where did you run into challenges?\n",
        "\n",
        "Q21: Write a function is_even that determines whether or not a number n is even. Include the function definition as well as a sample function call. Answer to this question includes program + comments that document process and explain your code.\n",
        "\n",
        "Q22: Write a function average that determines the average value of a list. Include the function definition as well as a sample function call. Answer to this question includes program + comments that document process and explain your code.\n",
        "\n",
        "Q23: Write a function uniq that takes a list and returns a new list containing only unique values. Include the function definition as well as a sample function call. Answer to this question includes program + comments that document process and explain your code."
      ],
      "metadata": {
        "id": "NtPdmByyMytK"
      }
    }
  ]
}